{
 "cells": [
  {
   "cell_type": "markdown",
   "id": "4d4bd09a-e309-447c-bae6-0bba7cb829ed",
   "metadata": {
    "tags": []
   },
   "source": [
    "# Project 3 - Article Parsing Toolset"
   ]
  },
  {
   "cell_type": "markdown",
   "id": "a1834e12-e215-457e-bb90-f7d411635952",
   "metadata": {
    "tags": []
   },
   "source": [
    "## Team 3 Members\n",
    "\n",
    "- Matthew Dunbar\n",
    "- Jeffrei Cher\n",
    "- Basil James"
   ]
  },
  {
   "cell_type": "markdown",
   "id": "6bc18b4a-1c51-4bae-be3d-39d60063c70e",
   "metadata": {
    "tags": []
   },
   "source": [
    "## Project Problem\n",
    "\n",
    "To parse article content and extract various data from the article contents\n",
    "\n",
    "- _**Article Classification into a set of pre-defined categories**_\n",
    "  (a prediction model)\n",
    "\n",
    "For Sports Articles:\n",
    "- _**to identify the sport, and extract game/match scores if present**_\n",
    "- _(to provide stats summaries if present?)_"
   ]
  },
  {
   "cell_type": "markdown",
   "id": "3538e8b9-7226-482a-a6ab-8dcebf00e22c",
   "metadata": {},
   "source": [
    "## Learning Goal\n",
    "\n",
    "Develop experience:\n",
    "\n",
    "- Building and deploying models to leverage in real world applications\n",
    "- Leveraging custom training of LLMs to provide article analysis.\n",
    "- Using a tool-based (extensible toolbox) approach to provide multiple analytics features\n"
   ]
  },
  {
   "cell_type": "markdown",
   "id": "da632267-b262-4941-8ba3-8f36e5992934",
   "metadata": {},
   "source": [
    "## Dataset\n",
    "\n",
    "- https://www.kaggle.com/datasets/fabiochiusano/medium-articles  \n",
    "[size: 190k+, categories: multiple tags per article, large set, Includes titles, full articles, and URLs]"
   ]
  },
  {
   "cell_type": "markdown",
   "id": "e436ec87-20b4-492c-8486-7b8d9d4194e3",
   "metadata": {},
   "source": [
    "### Retrieve dataset"
   ]
  },
  {
   "cell_type": "code",
   "execution_count": 1,
   "id": "02161fa5-49ec-4784-9447-2077621f24fd",
   "metadata": {
    "tags": []
   },
   "outputs": [
    {
     "name": "stdout",
     "output_type": "stream",
     "text": [
      "Warning: Your Kaggle API key is readable by other users on this system! To fix this, you can run 'chmod 600 /home/jupyter/.kaggle/kaggle.json'\n",
      "Warning: Looks like you're using an outdated API Version, please consider updating (server 1.7.4.2 / client 1.6.17)\n",
      "Dataset URL: https://www.kaggle.com/datasets/fabiochiusano/medium-articles\n",
      "License(s): CC0-1.0\n",
      "Downloading medium-articles.zip to ./data\n",
      "100%|█████████████████████████████████████████| 369M/369M [00:03<00:00, 144MB/s]\n",
      "100%|█████████████████████████████████████████| 369M/369M [00:03<00:00, 119MB/s]\n"
     ]
    }
   ],
   "source": [
    "! kaggle datasets download -d fabiochiusano/medium-articles -p ./data --unzip"
   ]
  },
  {
   "cell_type": "markdown",
   "id": "364eb2fa-a0a1-41c9-b89b-e2b40c10707d",
   "metadata": {},
   "source": [
    "### Local file"
   ]
  },
  {
   "cell_type": "code",
   "execution_count": 7,
   "id": "aa2fba05-1000-43d4-8b35-c8a9bd35dc0e",
   "metadata": {
    "tags": []
   },
   "outputs": [
    {
     "name": "stdout",
     "output_type": "stream",
     "text": [
      "total 1017916\n",
      "-rw-r--r-- 1 jupyter jupyter 1042340506 Apr  2 17:18 medium_articles.csv\n"
     ]
    }
   ],
   "source": [
    "!ls -l ./data/"
   ]
  },
  {
   "cell_type": "markdown",
   "id": "766890be-1500-427d-8588-254aa65054bc",
   "metadata": {},
   "source": [
    "### Fulfill basic Dataframe dependencies"
   ]
  },
  {
   "cell_type": "code",
   "execution_count": 72,
   "id": "1f9e3954-0783-488b-9a38-bc1b78f27a3a",
   "metadata": {
    "tags": []
   },
   "outputs": [
    {
     "name": "stdout",
     "output_type": "stream",
     "text": [
      "2.12.0\n"
     ]
    }
   ],
   "source": [
    "import os\n",
    "\n",
    "import pandas as pd\n",
    "from google.cloud import bigquery\n",
    "\n",
    "import subprocess\n",
    "import warnings\n",
    "\n",
    "os.environ[\"TF_CPP_MIN_LOG_LEVEL\"] = \"2\"\n",
    "warnings.filterwarnings(\"ignore\")\n",
    "\n",
    "import json\n",
    "from pprint import pprint\n",
    "import markdown\n",
    "# import tensorflow as tf\n",
    "\n",
    "print(tf.version.VERSION)"
   ]
  },
  {
   "cell_type": "markdown",
   "id": "3619a900-c806-4be1-86b6-e955cc2a19b1",
   "metadata": {},
   "source": [
    "### Load dataframe"
   ]
  },
  {
   "cell_type": "code",
   "execution_count": 117,
   "id": "42c63165-4f48-46f0-b303-7222310d1a0e",
   "metadata": {
    "tags": []
   },
   "outputs": [
    {
     "data": {
      "text/html": [
       "<div>\n",
       "<style scoped>\n",
       "    .dataframe tbody tr th:only-of-type {\n",
       "        vertical-align: middle;\n",
       "    }\n",
       "\n",
       "    .dataframe tbody tr th {\n",
       "        vertical-align: top;\n",
       "    }\n",
       "\n",
       "    .dataframe thead th {\n",
       "        text-align: right;\n",
       "    }\n",
       "</style>\n",
       "<table border=\"1\" class=\"dataframe\">\n",
       "  <thead>\n",
       "    <tr style=\"text-align: right;\">\n",
       "      <th></th>\n",
       "      <th>title</th>\n",
       "      <th>text</th>\n",
       "      <th>url</th>\n",
       "      <th>authors</th>\n",
       "      <th>timestamp</th>\n",
       "      <th>tags</th>\n",
       "    </tr>\n",
       "  </thead>\n",
       "  <tbody>\n",
       "    <tr>\n",
       "      <th>0</th>\n",
       "      <td>Mental Note Vol. 24</td>\n",
       "      <td>Photo by Josh Riemer on Unsplash\\n\\nMerry Christmas and Happy Holidays, everyone!\\n\\nWe just wanted everyone to know how much we appreciate everyone and how thankful we are for all our readers and writers here. We wouldn’t be anywhere without you, so thank you all for bringing informative, vulnerable, and important pieces that destigmatize mental illness and mental health.\\n\\nWithout further ado, here are ten of our top stories from last week, all of which were curated:\\n\\n“Just as the capacity to love and inspire is universal so is the capacity to hate and discourage. Irrespective of gender, race, age or religion none of us are exempt from aggressive proclivities. Those who are narcissistically disordered, and accordingly repress deep seated feelings of inferiority with inflated delusions of grandeur and superiority, are more prone to aggression and violence. They infiltrate our interactions in myriad environments from home, work, school and the cyber world. Hence, bullying does not happen in isolation. Although there is a ringleader she looks to her minions to either sanction her cruelty or look the other way.”\\n\\n“Even though the circumstances that brought me here were sad and challenging, I’m grateful for how this program has changed my life for the better. I can’t help but imagine what life would be like if everyone learned to accept their powerlessness over other people, prioritize their serenity, and take life one step at a time. We’ll never know, but I’d bet the world would be much happier.”\\n\\n“The prospect of spending a horrible Christmas, locked in on a psychiatric unit, was one of the low points of my life. For weeks, the day room was festooned with cheesy decorations and a sorry pink aluminum tree. All of our “activity” therapies revolved around the holidays. We baked and decorated cookies. We fashioned quick-drying clay into ornaments that turned out to be too heavy for the tree. Crappy Christmas carols were background torture. It was hard to get pissed off at the staff because they were making the best with what they had.”\\n\\n“Although I hate to admit it, even if my ex had never betrayed me, I still wouldn’t have been happy. I had set him up for an impossible job — to define me and make me whole. If I cannot find peace and contentment within myself, how could anyone else do it for me?”\\n\\n“On a personal note, significant feelings of loss and sadness can still flare up from time to time. That’s only natural; it’s no reason for self-critique. No matter how resilient we purport to be, we are all emotionally vulnerable human beings. Besides, we aren’t talking about some conceptual loss that we can just mechanically compartmentalize away — we are talking about the loss of our fathers, mothers, sisters and brothers.”\\n\\n“The next six weeks will be hard as cases continue to explode and government leadership remains nonexistent. I can’t control any of this. The only thing I can do is take deep breaths, remain vigilant when it comes to limiting exposure to the virus, and let lots of stuff go. I may always be a hypochondriac, but now that I recognize the beast, I’m hopeful I’ll be able to tame it.”\\n\\n“From anecdotal news reports and informal surveys, there is evidence that for some of us, this pandemic-imposed isolation is a boon rather than a trial. One study on mixed emotions showed that those with lower emotional stability (“moody” personalities) are actually better at responding to uncertainty.”\\n\\n“Every day I wish in my heart and soul that I didn’t have ME/CFS. Unfortunately, I do. It’s a result of a virus I had; 10–12 percent of people who experience a serious infection go on to develop ME. I’ve visualized life without CFS for over a year now; I can smell life without it, I can taste it. It’s in the smell of the lavender fields that I can no longer run through. It’s in the taste of the meals from my favorite restaurant that I can no longer walk to. It’s on the tip of my tongue. It’s in the potentialities; all the things I could be doing, as a twenty-four year-old, that I can’t. I cannot cross the chasm between the potential and the reality. And that’s nothing to do with manifestation.”\\n\\n“Whether it’s cabin fever, redundancy, loss, or general Covid anxieties, this year has caused us to be exposed to more uncertainty than ever. Uncertainty creates unease and feelings of stress. Some of us may have taken this year as one to motivate — plan dream trips, and prepare and be inspired for what the future could bring. For the rest, it has caused us to become irrational, emotional, and reserved.\\n\\n“To be more self-compassionate is a task that can be tricky because we always want to push ourselves and do better. Without realising it, this can lead to us being self-critical which can have damaging consequences.\\n\\nIt’s important to notice these times when we are harsh because we can easily turn it into self-compassion, which is linked to a better quality of life.”\\n\\nMerry Christmas and Happy Holidays, everyone!\\n\\n— Ryan, Juliette, Marie, and Meredith</td>\n",
       "      <td>https://medium.com/invisible-illness/mental-note-vol-24-969b6a42443f</td>\n",
       "      <td>['Ryan Fan']</td>\n",
       "      <td>2020-12-26 03:38:10.479000+00:00</td>\n",
       "      <td>['Mental Health', 'Health', 'Psychology', 'Science', 'Neuroscience']</td>\n",
       "    </tr>\n",
       "    <tr>\n",
       "      <th>1</th>\n",
       "      <td>Your Brain On Coronavirus</td>\n",
       "      <td>Your Brain On Coronavirus\\n\\nA guide to the curious and troubling impact of the pandemic and isolation\\n\\nPhoto by cottonbro from Pexels\\n\\nThe coronavirus pandemic frustrates and confounds epidemiologists and immunologists, even after months of study. It frustrates politicians and public health officials dealing with mask non-compliance. It frustrates everyone stuck at home, whether they lost their job or adapting to Zoom.\\n\\nAfter exposure to the virus, it first enters the lungs, using host machinery to replicate. The virus itself is just a genetic sequence enclosed in a protein and lipid coat. It binds the ACE2 receptors on lung cells, with a spike protein located on its protein-lipid coat. This receptor, attached to the virus, trafficks into the lung cell. Here the virus hijacks the machinery of the cell to replicate, damaging lung tissue and spreading throughout the body.\\n\\nThe ACE2 receptor, expressed in many regions of the body, is vulnerable to further entry of these viral particles. The ACE2 receptor regulates blood pressure, nutrient absorption and inflammation. These pathways converge and mediate brain health and disease.\\n\\nThe novel coronavirus perplexed us for many different reasons. A large majority of people who get it don’t display any symptoms, while some display symptoms for many months and others require ventilators to breathe. It is unclear whether someone infected with coronavirus retains long-term immunity.\\n\\nAlso, troubling findings implicate this disease in the induction of stroke and the worsening of mental health. The realization that there are likely long-term complications of coronavirus infection is worrying, as millions of people may require expensive coverage for this new pre-existing condition.\\n\\nThose of us lucky to avoid being infected become more socially isolated and lonely. Many studies report the worsening of mental health symptoms, especially in frontline workers, nurses and doctors. These professionals are more prone to burning out and require extra care.\\n\\nCOVID-19 and Stroke\\n\\nThe cells in the brain require a disproportionate amount of energy to function. When deprived of oxygen, even for minutes, the cells begin to die, leading to a variety of debilitating sensory, motor or language deficits depending. When there is blood loss to a specific region of the brain, cells cannot use oxygen to generate energy. If there is a clot in an artery, fresh oxygen cannot travel to any regions primarily supplied by that blood vessel. These events, classified as ischemic strokes, cause lifelong disability in some of those afflicted.\\n\\nEarly findings in patients found abnormal clotting in blood vessels. Vessels around the lungs or even arterial blood-flow to the brain is interrupted. Thus, individuals infected with coronavirus who suffered abnormal blood clotting as a result, were at higher risk of stroke.\\n\\nIn June of 2020, researchers published a report of neurological symptoms in the New England Journal of Medicine. While they did not report common symptoms of having a stroke, they showed other strange brain-related features. Of thirteen COVID-19 patients who underwent brain imaging, three of them showed signs of an ischemic stroke. A subset of eight of these patients showed other types of inflammation, while eleven presented with a lack of blood flow to the frontal areas of the brain.\\n\\nThough a preliminary observational study, it suggested that the coronavirus impacted blood clotting and flow to the brain. Several studies since identified swathes of patients suffering from ischemic strokes or brain/vascular inflammation. Another study reviewed the current state of evidence, concluding that 41% of patients suffering from neurological symptoms after COVID-19 infection, suffered from strokes. Larger studies however, are needed to decipher how common this is among all those infected with the novel coronavirus.\\n\\nDepending on which region of the brain loses oxygen, stroke may manifest as a broad range of symptoms. If cells die in an area of the brain responsible for motor movement, it later manifests in unilateral or bilateral difficulties with movement. Other common symptoms involve fatigue, challenges with balance or walking, partial paralysis, pain or inattention to one entire side of the body. It prevents individuals from doing the things they do in their daily lives, such as dress themselves or go to the bathroom independently.\\n\\nCOVID-19 and Psychiatric Disorders\\n\\nPhoto by Jonathan Rados on Unsplash\\n\\nEither through neuroimmune signalling or by directly entering the cells of the brain, COVID-19 also contributes to psychiatric symptoms and disorders. It is unclear what role it may play in their pathology, but it may worsen existing conditions or as a contributing factor in its development.\\n\\nOne study compared individuals afflicted with the novel coronavirus to those in quarantine or the general public, finding elevated rates of depression (29.2%) in those with COVID-19. Another small study reported increased post-traumatic stress symptoms in these patients.\\n\\nIndividuals already living with psychiatric disorders reported a worsening of symptoms in two different studies. Several other studies reported depressive and anxious symptoms worsened among essential workers.\\n\\nAnother study surveyed &gt;2000 individuals in Denmark, finding a reduction in overall psychological well-being measures during the pandemics. This study also reported that women were more negatively affected than men.\\n\\nAdditionally, it recognized that many older adults living in adult-care communities during shelter-in-place orders experience loneliness and depression. A study of older adults in San Francisco found that they showed increased rates of loneliness and depression.\\n\\nWe must do our best to check-up on our friends and loved ones. We are all affected differently by the pandemic, so it is important to recognize that the rates of anxiety, depression and stress-related disorders may arise.\\n\\nCOVID-19 Long-Haulers\\n\\nThousands of individuals initially infected with COVID-19, the long-haulers, continue to suffer symptoms many months later. On average, these individuals are women around the age of 44 who are otherwise healthy. Their infections were classified as mild severity because they could recover at home.\\n\\nFacing stigma and in need of a community, several groups sprouted up to support each other. Originally disbelieved, they rallied to raise awareness of their predicament within the medical establishment. It should no longer be sufficient to classify individuals infected with COVID-19, who don’t require a hospital stay, as mild.\\n\\nA few different studies report that most individuals affected with COVID-19 suffer from symptoms months later (Italy, UK, Germany). Intriguingly, many long-haulers did not produce high-levels of coronavirus antibodies. Many individuals experience pain, fatigue and many other debilitating symptoms.\\n\\nThese symptoms are consistent with disturbances in the autonomic nervous system, which is responsible for many automatic physiological functions like breathing or heart-rate but also influence fatigue. Preliminary physiotherapy involves reconditioning the nervous system of patients so that they may regain some of these functions. In his article, Ed Yong states:</td>\n",
       "      <td>https://medium.com/age-of-awareness/how-the-pandemic-affects-our-brain-and-mental-health-ae2ec0a9fc1d</td>\n",
       "      <td>['Simon Spichak']</td>\n",
       "      <td>2020-09-23 22:10:17.126000+00:00</td>\n",
       "      <td>['Mental Health', 'Coronavirus', 'Science', 'Psychology', 'Neuroscience']</td>\n",
       "    </tr>\n",
       "    <tr>\n",
       "      <th>2</th>\n",
       "      <td>Mind Your Nose</td>\n",
       "      <td>Mind Your Nose\\n\\nHow smell training can change your brain in six weeks — and why it matters.\\n\\nBy Ann-Sophie Barwich\\n\\nWhen it comes to training your brain, your sense of smell is possibly the last thing you’d think could strengthen your neural pathways. Learning a new language or reading more books (and fewer social media posts) — sure. But your nose?\\n\\nThat’s because the olfactory system is one of the most plastic systems in your brain. Neuroplasticity describes how the brain flexibly adapts to changes in the environment or when exposed to neural damage. Stimulating the brain strengthens existing neural structures and further adds fuel to the brain’s capacity to remain adaptive, thereby keeping it young. And your smell system is particularly adept at repair and renewal. (Olfactory cells have recently been used in human transplant therapy to treat spinal cord injury, for example.)\\n\\nOne reason for the olfactory system’s adaptive responsiveness is that it undergoes adult neurogenesis. Humans grow new olfactory neurons every three to four weeks throughout their entire life, not just during child development. (These sensory neurons sit in the mucous of your nose, where they pick up airborne chemicals and send activity signals straight to the core of the brain.) If it weren’t for this ongoing regeneration of sensory cells in your nose, we would stop detecting smells after our first few colds.\\n\\nNeural plasticity weakens as we grow old — and so does our sense of smell. Olfactory performance decreases around the age of 70 as the regeneration of olfactory neurons slows down. Yet this process of regeneration never stops entirely. Training your nose helps slow down that decline and offers a great way to increase your brain’s plasticity. That said, increasing your sensitivity to odors in the environment does not always sound desirable. Smell usually comes with negative connotations: that whiff of urine in the metro, that overpowering literal skunk, or that trail of body odor from the person walking in front of you. But paying more attention to the smells around you also has benefits, and not just for a greater enjoyment of food aromas and neighbors’ gardens.\\n\\nRecent studies show that olfactory abilities correspond with differences in cortical areas involved in smell processing in the brain. Johannes Frasnelli, an olfactory scientist at the University of Quebec in Trois-Rivières, explained: “We did some studies where we saw that there is a link between the structure of certain brain regions-like the thickness of the cortex and the thickness of the gray matter layer in certain brain olfactory processing regions-and the ability to perceive.” Frasnelli and his colleagues found that people with better perceptual capacities had a thicker cortex. When they looked at people who had lost their sense of smell, they also saw a reduction of cortical matter in areas involved in odor processing.\\n\\nThat raises the question: Could you change the structure of your brain simply by smelling things? In 2019, Frasnelli’s group discovered that undergoing as little as six weeks of intense olfactory training results in significant structural changes in some regions of the brain (namely, the right inferior frontal gyrus, the bilateral fusiform gyrus, and the right entorhinal cortex).\\n\\nParticipants were given three tasks with a cognitive component.\\n\\nThe first task was a classification task. Participants had to organize two simple odor mixtures by ordering each from lowest to highest concentration. The second was an identification task. Participants were presented with a target odor blended with a citrus scent in a specific ratio (4%). Then they were given the same blend in different ratios and asked to order them according to quality (more citrusy or less?). Lastly, the detection task: Was the learned target odor present in a range of 14 samples of different odor mixtures or not?\\n\\nThis entire exercise was undertaken each day for 20 minutes during the six weeks. Responses were monitored and evaluated on speed and accuracy.\\n\\nSuch intense olfactory training led to a general improvement in olfactory performance. Plus, the increase of olfactory skill was not restricted to the training exercises but also transferred to other olfactory abilities-abilities that had not been tested as part of the training. These perceptual tests included: the detection threshold of an odor, accuracy in odor discrimination (same or different?), cued odor identification (which of these four descriptors is correct?), and even free odor identification (identifying an odor without cues!).\\n\\nIncreasing insight into what the nose knows, and how it communicates with the brain, has broader implications-even philosophical ones. Old (yet still prevalent) cookie-cutter views of the mind coax us to believe that our senses are passive-indifferently picking up signals in the world that are then processed by the brain. Perception, in such views, is a process separate from cognition. Highly plastic systems such as olfaction present us with a much more intriguing and interwoven picture of the mind: Training your nose’s performance (just like other cognitive capacities) fundamentally shapes what you perceive by rewiring the system.\\n\\nYour senses are far from being impartial transmitters; what you are able to perceive in the world ultimately hinges on the depth of your cognitive engagement with it. In other words, your mind does not emerge apathetically as a product of some remarkable, intricate molecular twists performed by the brain. The mind is enhanced by what you can train your brain to do. Just like strength is a result of muscle training, cognitive training of the senses is the bodybuilding of the brain.</td>\n",
       "      <td>https://medium.com/neodotlife/mind-your-nose-f0b097d533bb</td>\n",
       "      <td>[]</td>\n",
       "      <td>2020-10-10 20:17:37.132000+00:00</td>\n",
       "      <td>['Biotechnology', 'Neuroscience', 'Brain', 'Wellness', 'Science']</td>\n",
       "    </tr>\n",
       "    <tr>\n",
       "      <th>3</th>\n",
       "      <td>The 4 Purposes of Dreams</td>\n",
       "      <td>Passionate about the synergy between science and technology to provide better care. Check out my newsletter: scienceforreal.substack.com 📰\\n\\nFollow</td>\n",
       "      <td>https://medium.com/science-for-real/the-4-purposes-of-dreams-fc6719090e75</td>\n",
       "      <td>['Eshan Samaranayake']</td>\n",
       "      <td>2020-12-21 16:05:19.524000+00:00</td>\n",
       "      <td>['Health', 'Neuroscience', 'Mental Health', 'Psychology', 'Science']</td>\n",
       "    </tr>\n",
       "    <tr>\n",
       "      <th>4</th>\n",
       "      <td>Surviving a Rod Through the Head</td>\n",
       "      <td>You’ve heard of him, haven’t you? Phineas Gage. The railroad worker who survived an explosion that involved an iron rod piercing through his left cheek and out of his brain and skull.\\n\\nYeah.\\n\\nI know.\\n\\nYou’re probably wondering “yeah, alright sweet. What about him?” Well, let’s just say that he was a really popular patient for the field of neuroscience (Cherry, par. 1). And what I found the most interesting about this tragic event was the science of his behavior afterward.\\n\\nFor those of you who don’t know much about Phineas Gage, let me fill you in with the help of my research.\\n\\nPhineas Gage, 25 years old, was a railroad worker in Vermont. One day, at work, he was using an iron rod to handle explosive gun powder. As he was using the iron rod to handle the gun powder, an explosion suddenly occurred. The iron rod then went through his left cheek and brain. Fortunately, he survived and was able to talk and walk after the accident (Cherry, par. 2–3).\\n\\nWhy did people say that Phineas Gage was a “different person” after his accident? It actually has to do with neuroscience.\\n\\nThe iron rod went through his brain, in particular, it went through the frontal lobe of his brain. Does this mean that the frontal lobe of your brain has to do with the kind of person you are? To answer this question, we have to understand what the frontal lobe in our brain is responsible for.\\n\\nOur frontal lobes are responsible for many things. Some of them are higher-order thinking, personality, and decision making. This explains why people who knew Phineas Gage said that he was a totally different person after the accident. Since the iron rod went through his frontal lobe, it means that his personality and thinking, as a whole, completely changed, making him seem like he was a whole different person due to the way he started acting.\\n\\nThis accident and the treatment of Phineas Gage actually played a big role in the field of neurology. His case helped scientists better understand the role of the frontal cortex of the brain (Cherry, par. 16–17).\\n\\nBibliography\\n\\nCherry, Kendra. “The Famous Case of Phineas Gage’s Astonishing Brain Injury.” Phineas Gage’s Astonishing Brain Injury, Verywell Mind, 3 Oct. 2019, www.verywellmind.com/phineas-gage-2795244#targetText=The%20rod%20penetrated%20Gage's%20left,be%20seen%20by%20a%20doctor.</td>\n",
       "      <td>https://medium.com/live-your-life-on-purpose/surviving-a-rod-through-the-head-2e5d74db978</td>\n",
       "      <td>['Rishav Sinha']</td>\n",
       "      <td>2020-02-26 00:01:01.576000+00:00</td>\n",
       "      <td>['Brain', 'Health', 'Development', 'Psychology', 'Science']</td>\n",
       "    </tr>\n",
       "  </tbody>\n",
       "</table>\n",
       "</div>"
      ],
      "text/plain": [
       "                              title                                                                                                                                                                                                                                                                                                                                                                                                                                                                                                                                                                                                                                                                                                                                                                                                                                                                                                                                                                                                                                                                                                                                                                                                                                                                                                                                                                                                                                                                                                                                                                                                                                                                                                                                                                                                                                                                                                                                                                                                                                                                                                                                                                                                                                                                                                                                                                                                                                                                                                                                                                                                                                                                                                                                                                                                                                                                                                                                                                                                                                                                                                                                                                                                                                                                                                                                                                                                                                                                                                                                                                                                                                                                                                                                                                                                                                                                                                                                                                                                                                                                                                                                                                                                                                                                                                                                                                                                                                                                                                                                                                                                                                                                                                                                                                                                                                                                                                                                                                                                                                                                                                                                                                                                                                                                                                                                                                                                                                                                                                                                                                                                                                                                                                                                                                                                                                                                                                                                                                                                                                                                                                                                                                                                                                                                                                                                                                                                                                                                                                                                                                                                                                                                                                                                                                                                                                                                                                                                                                                                                                                                                                                                                                                                                                                                                                                                                                                                                                                                                                                                                                                                                                                 text                                                                                                    url                 authors                         timestamp                                                                       tags\n",
       "0               Mental Note Vol. 24                                                                                                                                                                                                                                                                                                                                                                                                                                                                                                                                                                                                                                                                                                                                                                                                                                                                                                                                                                                                                                                                                                                                                                                                                                                                                                                                                                                                                                                                                                                                                                                                                                                                                                                                                                                                                                                                                                                                                                                                                                                                                                                                                                                                                                                                                                                                                                                           Photo by Josh Riemer on Unsplash\\n\\nMerry Christmas and Happy Holidays, everyone!\\n\\nWe just wanted everyone to know how much we appreciate everyone and how thankful we are for all our readers and writers here. We wouldn’t be anywhere without you, so thank you all for bringing informative, vulnerable, and important pieces that destigmatize mental illness and mental health.\\n\\nWithout further ado, here are ten of our top stories from last week, all of which were curated:\\n\\n“Just as the capacity to love and inspire is universal so is the capacity to hate and discourage. Irrespective of gender, race, age or religion none of us are exempt from aggressive proclivities. Those who are narcissistically disordered, and accordingly repress deep seated feelings of inferiority with inflated delusions of grandeur and superiority, are more prone to aggression and violence. They infiltrate our interactions in myriad environments from home, work, school and the cyber world. Hence, bullying does not happen in isolation. Although there is a ringleader she looks to her minions to either sanction her cruelty or look the other way.”\\n\\n“Even though the circumstances that brought me here were sad and challenging, I’m grateful for how this program has changed my life for the better. I can’t help but imagine what life would be like if everyone learned to accept their powerlessness over other people, prioritize their serenity, and take life one step at a time. We’ll never know, but I’d bet the world would be much happier.”\\n\\n“The prospect of spending a horrible Christmas, locked in on a psychiatric unit, was one of the low points of my life. For weeks, the day room was festooned with cheesy decorations and a sorry pink aluminum tree. All of our “activity” therapies revolved around the holidays. We baked and decorated cookies. We fashioned quick-drying clay into ornaments that turned out to be too heavy for the tree. Crappy Christmas carols were background torture. It was hard to get pissed off at the staff because they were making the best with what they had.”\\n\\n“Although I hate to admit it, even if my ex had never betrayed me, I still wouldn’t have been happy. I had set him up for an impossible job — to define me and make me whole. If I cannot find peace and contentment within myself, how could anyone else do it for me?”\\n\\n“On a personal note, significant feelings of loss and sadness can still flare up from time to time. That’s only natural; it’s no reason for self-critique. No matter how resilient we purport to be, we are all emotionally vulnerable human beings. Besides, we aren’t talking about some conceptual loss that we can just mechanically compartmentalize away — we are talking about the loss of our fathers, mothers, sisters and brothers.”\\n\\n“The next six weeks will be hard as cases continue to explode and government leadership remains nonexistent. I can’t control any of this. The only thing I can do is take deep breaths, remain vigilant when it comes to limiting exposure to the virus, and let lots of stuff go. I may always be a hypochondriac, but now that I recognize the beast, I’m hopeful I’ll be able to tame it.”\\n\\n“From anecdotal news reports and informal surveys, there is evidence that for some of us, this pandemic-imposed isolation is a boon rather than a trial. One study on mixed emotions showed that those with lower emotional stability (“moody” personalities) are actually better at responding to uncertainty.”\\n\\n“Every day I wish in my heart and soul that I didn’t have ME/CFS. Unfortunately, I do. It’s a result of a virus I had; 10–12 percent of people who experience a serious infection go on to develop ME. I’ve visualized life without CFS for over a year now; I can smell life without it, I can taste it. It’s in the smell of the lavender fields that I can no longer run through. It’s in the taste of the meals from my favorite restaurant that I can no longer walk to. It’s on the tip of my tongue. It’s in the potentialities; all the things I could be doing, as a twenty-four year-old, that I can’t. I cannot cross the chasm between the potential and the reality. And that’s nothing to do with manifestation.”\\n\\n“Whether it’s cabin fever, redundancy, loss, or general Covid anxieties, this year has caused us to be exposed to more uncertainty than ever. Uncertainty creates unease and feelings of stress. Some of us may have taken this year as one to motivate — plan dream trips, and prepare and be inspired for what the future could bring. For the rest, it has caused us to become irrational, emotional, and reserved.\\n\\n“To be more self-compassionate is a task that can be tricky because we always want to push ourselves and do better. Without realising it, this can lead to us being self-critical which can have damaging consequences.\\n\\nIt’s important to notice these times when we are harsh because we can easily turn it into self-compassion, which is linked to a better quality of life.”\\n\\nMerry Christmas and Happy Holidays, everyone!\\n\\n— Ryan, Juliette, Marie, and Meredith                                   https://medium.com/invisible-illness/mental-note-vol-24-969b6a42443f            ['Ryan Fan']  2020-12-26 03:38:10.479000+00:00       ['Mental Health', 'Health', 'Psychology', 'Science', 'Neuroscience']\n",
       "1         Your Brain On Coronavirus  Your Brain On Coronavirus\\n\\nA guide to the curious and troubling impact of the pandemic and isolation\\n\\nPhoto by cottonbro from Pexels\\n\\nThe coronavirus pandemic frustrates and confounds epidemiologists and immunologists, even after months of study. It frustrates politicians and public health officials dealing with mask non-compliance. It frustrates everyone stuck at home, whether they lost their job or adapting to Zoom.\\n\\nAfter exposure to the virus, it first enters the lungs, using host machinery to replicate. The virus itself is just a genetic sequence enclosed in a protein and lipid coat. It binds the ACE2 receptors on lung cells, with a spike protein located on its protein-lipid coat. This receptor, attached to the virus, trafficks into the lung cell. Here the virus hijacks the machinery of the cell to replicate, damaging lung tissue and spreading throughout the body.\\n\\nThe ACE2 receptor, expressed in many regions of the body, is vulnerable to further entry of these viral particles. The ACE2 receptor regulates blood pressure, nutrient absorption and inflammation. These pathways converge and mediate brain health and disease.\\n\\nThe novel coronavirus perplexed us for many different reasons. A large majority of people who get it don’t display any symptoms, while some display symptoms for many months and others require ventilators to breathe. It is unclear whether someone infected with coronavirus retains long-term immunity.\\n\\nAlso, troubling findings implicate this disease in the induction of stroke and the worsening of mental health. The realization that there are likely long-term complications of coronavirus infection is worrying, as millions of people may require expensive coverage for this new pre-existing condition.\\n\\nThose of us lucky to avoid being infected become more socially isolated and lonely. Many studies report the worsening of mental health symptoms, especially in frontline workers, nurses and doctors. These professionals are more prone to burning out and require extra care.\\n\\nCOVID-19 and Stroke\\n\\nThe cells in the brain require a disproportionate amount of energy to function. When deprived of oxygen, even for minutes, the cells begin to die, leading to a variety of debilitating sensory, motor or language deficits depending. When there is blood loss to a specific region of the brain, cells cannot use oxygen to generate energy. If there is a clot in an artery, fresh oxygen cannot travel to any regions primarily supplied by that blood vessel. These events, classified as ischemic strokes, cause lifelong disability in some of those afflicted.\\n\\nEarly findings in patients found abnormal clotting in blood vessels. Vessels around the lungs or even arterial blood-flow to the brain is interrupted. Thus, individuals infected with coronavirus who suffered abnormal blood clotting as a result, were at higher risk of stroke.\\n\\nIn June of 2020, researchers published a report of neurological symptoms in the New England Journal of Medicine. While they did not report common symptoms of having a stroke, they showed other strange brain-related features. Of thirteen COVID-19 patients who underwent brain imaging, three of them showed signs of an ischemic stroke. A subset of eight of these patients showed other types of inflammation, while eleven presented with a lack of blood flow to the frontal areas of the brain.\\n\\nThough a preliminary observational study, it suggested that the coronavirus impacted blood clotting and flow to the brain. Several studies since identified swathes of patients suffering from ischemic strokes or brain/vascular inflammation. Another study reviewed the current state of evidence, concluding that 41% of patients suffering from neurological symptoms after COVID-19 infection, suffered from strokes. Larger studies however, are needed to decipher how common this is among all those infected with the novel coronavirus.\\n\\nDepending on which region of the brain loses oxygen, stroke may manifest as a broad range of symptoms. If cells die in an area of the brain responsible for motor movement, it later manifests in unilateral or bilateral difficulties with movement. Other common symptoms involve fatigue, challenges with balance or walking, partial paralysis, pain or inattention to one entire side of the body. It prevents individuals from doing the things they do in their daily lives, such as dress themselves or go to the bathroom independently.\\n\\nCOVID-19 and Psychiatric Disorders\\n\\nPhoto by Jonathan Rados on Unsplash\\n\\nEither through neuroimmune signalling or by directly entering the cells of the brain, COVID-19 also contributes to psychiatric symptoms and disorders. It is unclear what role it may play in their pathology, but it may worsen existing conditions or as a contributing factor in its development.\\n\\nOne study compared individuals afflicted with the novel coronavirus to those in quarantine or the general public, finding elevated rates of depression (29.2%) in those with COVID-19. Another small study reported increased post-traumatic stress symptoms in these patients.\\n\\nIndividuals already living with psychiatric disorders reported a worsening of symptoms in two different studies. Several other studies reported depressive and anxious symptoms worsened among essential workers.\\n\\nAnother study surveyed >2000 individuals in Denmark, finding a reduction in overall psychological well-being measures during the pandemics. This study also reported that women were more negatively affected than men.\\n\\nAdditionally, it recognized that many older adults living in adult-care communities during shelter-in-place orders experience loneliness and depression. A study of older adults in San Francisco found that they showed increased rates of loneliness and depression.\\n\\nWe must do our best to check-up on our friends and loved ones. We are all affected differently by the pandemic, so it is important to recognize that the rates of anxiety, depression and stress-related disorders may arise.\\n\\nCOVID-19 Long-Haulers\\n\\nThousands of individuals initially infected with COVID-19, the long-haulers, continue to suffer symptoms many months later. On average, these individuals are women around the age of 44 who are otherwise healthy. Their infections were classified as mild severity because they could recover at home.\\n\\nFacing stigma and in need of a community, several groups sprouted up to support each other. Originally disbelieved, they rallied to raise awareness of their predicament within the medical establishment. It should no longer be sufficient to classify individuals infected with COVID-19, who don’t require a hospital stay, as mild.\\n\\nA few different studies report that most individuals affected with COVID-19 suffer from symptoms months later (Italy, UK, Germany). Intriguingly, many long-haulers did not produce high-levels of coronavirus antibodies. Many individuals experience pain, fatigue and many other debilitating symptoms.\\n\\nThese symptoms are consistent with disturbances in the autonomic nervous system, which is responsible for many automatic physiological functions like breathing or heart-rate but also influence fatigue. Preliminary physiotherapy involves reconditioning the nervous system of patients so that they may regain some of these functions. In his article, Ed Yong states:  https://medium.com/age-of-awareness/how-the-pandemic-affects-our-brain-and-mental-health-ae2ec0a9fc1d       ['Simon Spichak']  2020-09-23 22:10:17.126000+00:00  ['Mental Health', 'Coronavirus', 'Science', 'Psychology', 'Neuroscience']\n",
       "2                    Mind Your Nose                                                                                                                                                                                                                                                                                                                                                                                                                                                                                                                                                                                                                                                                                                                                                                                                                                                                                                                                                                                                                                                                                                                                                                                                                                                                                                                                                                                                                                                                                                                                                                                                                                                       Mind Your Nose\\n\\nHow smell training can change your brain in six weeks — and why it matters.\\n\\nBy Ann-Sophie Barwich\\n\\nWhen it comes to training your brain, your sense of smell is possibly the last thing you’d think could strengthen your neural pathways. Learning a new language or reading more books (and fewer social media posts) — sure. But your nose?\\n\\nThat’s because the olfactory system is one of the most plastic systems in your brain. Neuroplasticity describes how the brain flexibly adapts to changes in the environment or when exposed to neural damage. Stimulating the brain strengthens existing neural structures and further adds fuel to the brain’s capacity to remain adaptive, thereby keeping it young. And your smell system is particularly adept at repair and renewal. (Olfactory cells have recently been used in human transplant therapy to treat spinal cord injury, for example.)\\n\\nOne reason for the olfactory system’s adaptive responsiveness is that it undergoes adult neurogenesis. Humans grow new olfactory neurons every three to four weeks throughout their entire life, not just during child development. (These sensory neurons sit in the mucous of your nose, where they pick up airborne chemicals and send activity signals straight to the core of the brain.) If it weren’t for this ongoing regeneration of sensory cells in your nose, we would stop detecting smells after our first few colds.\\n\\nNeural plasticity weakens as we grow old — and so does our sense of smell. Olfactory performance decreases around the age of 70 as the regeneration of olfactory neurons slows down. Yet this process of regeneration never stops entirely. Training your nose helps slow down that decline and offers a great way to increase your brain’s plasticity. That said, increasing your sensitivity to odors in the environment does not always sound desirable. Smell usually comes with negative connotations: that whiff of urine in the metro, that overpowering literal skunk, or that trail of body odor from the person walking in front of you. But paying more attention to the smells around you also has benefits, and not just for a greater enjoyment of food aromas and neighbors’ gardens.\\n\\nRecent studies show that olfactory abilities correspond with differences in cortical areas involved in smell processing in the brain. Johannes Frasnelli, an olfactory scientist at the University of Quebec in Trois-Rivières, explained: “We did some studies where we saw that there is a link between the structure of certain brain regions-like the thickness of the cortex and the thickness of the gray matter layer in certain brain olfactory processing regions-and the ability to perceive.” Frasnelli and his colleagues found that people with better perceptual capacities had a thicker cortex. When they looked at people who had lost their sense of smell, they also saw a reduction of cortical matter in areas involved in odor processing.\\n\\nThat raises the question: Could you change the structure of your brain simply by smelling things? In 2019, Frasnelli’s group discovered that undergoing as little as six weeks of intense olfactory training results in significant structural changes in some regions of the brain (namely, the right inferior frontal gyrus, the bilateral fusiform gyrus, and the right entorhinal cortex).\\n\\nParticipants were given three tasks with a cognitive component.\\n\\nThe first task was a classification task. Participants had to organize two simple odor mixtures by ordering each from lowest to highest concentration. The second was an identification task. Participants were presented with a target odor blended with a citrus scent in a specific ratio (4%). Then they were given the same blend in different ratios and asked to order them according to quality (more citrusy or less?). Lastly, the detection task: Was the learned target odor present in a range of 14 samples of different odor mixtures or not?\\n\\nThis entire exercise was undertaken each day for 20 minutes during the six weeks. Responses were monitored and evaluated on speed and accuracy.\\n\\nSuch intense olfactory training led to a general improvement in olfactory performance. Plus, the increase of olfactory skill was not restricted to the training exercises but also transferred to other olfactory abilities-abilities that had not been tested as part of the training. These perceptual tests included: the detection threshold of an odor, accuracy in odor discrimination (same or different?), cued odor identification (which of these four descriptors is correct?), and even free odor identification (identifying an odor without cues!).\\n\\nIncreasing insight into what the nose knows, and how it communicates with the brain, has broader implications-even philosophical ones. Old (yet still prevalent) cookie-cutter views of the mind coax us to believe that our senses are passive-indifferently picking up signals in the world that are then processed by the brain. Perception, in such views, is a process separate from cognition. Highly plastic systems such as olfaction present us with a much more intriguing and interwoven picture of the mind: Training your nose’s performance (just like other cognitive capacities) fundamentally shapes what you perceive by rewiring the system.\\n\\nYour senses are far from being impartial transmitters; what you are able to perceive in the world ultimately hinges on the depth of your cognitive engagement with it. In other words, your mind does not emerge apathetically as a product of some remarkable, intricate molecular twists performed by the brain. The mind is enhanced by what you can train your brain to do. Just like strength is a result of muscle training, cognitive training of the senses is the bodybuilding of the brain.                                              https://medium.com/neodotlife/mind-your-nose-f0b097d533bb                      []  2020-10-10 20:17:37.132000+00:00          ['Biotechnology', 'Neuroscience', 'Brain', 'Wellness', 'Science']\n",
       "3          The 4 Purposes of Dreams                                                                                                                                                                                                                                                                                                                                                                                                                                                                                                                                                                                                                                                                                                                                                                                                                                                                                                                                                                                                                                                                                                                                                                                                                                                                                                                                                                                                                                                                                                                                                                                                                                                                                                                                                                                                                                                                                                                                                                                                                                                                                                                                                                                                                                                                                                                                                                                                                                                                                                                                                                                                                                                                                                                                                                                                                                                                                                                                                                                                                                                                                                                                                                                                                                                                                                                                                                                                                                                                                                                                                                                                                                                                                                                                                                                                                                                                                                                                                                                                                                                                                                                                                                                                                                                                                                                                                                                                                                                                                                                                                                                                                                                                                                                                                                                                                                                                                                                                                                                                                                                                                                                                                                                                                                                                                                                                                                                                                                                                                                                                                                                                                                                                                                                                                                                                                                                                                                                                                                                                                                                                                                                                                                                                                                                                                                                                                                                                                                                                                                                                                                                                                                                                                                                                                                                                                                                                                                                                                                                                                                                                                                                                                                                                                                                                                                                                                                                                                                                                                                 Passionate about the synergy between science and technology to provide better care. Check out my newsletter: scienceforreal.substack.com 📰\\n\\nFollow                              https://medium.com/science-for-real/the-4-purposes-of-dreams-fc6719090e75  ['Eshan Samaranayake']  2020-12-21 16:05:19.524000+00:00       ['Health', 'Neuroscience', 'Mental Health', 'Psychology', 'Science']\n",
       "4  Surviving a Rod Through the Head                                                                                                                                                                                                                                                                                                                                                                                                                                                                                                                                                                                                                                                                                                                                                                                                                                                                                                                                                                                                                                                                                                                                                                                                                                                                                                                                                                                                                                                                                                                                                                                                                                                                                                                                                                                                                                                                                                                                                                                                                                                                                                                                                                                                                                                                                                                                                                                                                                                                                                                                                                                                                                                                                                                                                                                                                                                                                                                                                                                                                                                                                                                                                                                                                                                                                                                                                                                                                                                                                                                                                                                                                                                                                                                                                                                                                                                                                                                                                                                                                                                                                                                                                                                                                                                                                                                                                                                                                                                                                                                                                                                                                                                                                                                                                                                                                                                                                                                                                                                                                                                                                                                                                                                                         You’ve heard of him, haven’t you? Phineas Gage. The railroad worker who survived an explosion that involved an iron rod piercing through his left cheek and out of his brain and skull.\\n\\nYeah.\\n\\nI know.\\n\\nYou’re probably wondering “yeah, alright sweet. What about him?” Well, let’s just say that he was a really popular patient for the field of neuroscience (Cherry, par. 1). And what I found the most interesting about this tragic event was the science of his behavior afterward.\\n\\nFor those of you who don’t know much about Phineas Gage, let me fill you in with the help of my research.\\n\\nPhineas Gage, 25 years old, was a railroad worker in Vermont. One day, at work, he was using an iron rod to handle explosive gun powder. As he was using the iron rod to handle the gun powder, an explosion suddenly occurred. The iron rod then went through his left cheek and brain. Fortunately, he survived and was able to talk and walk after the accident (Cherry, par. 2–3).\\n\\nWhy did people say that Phineas Gage was a “different person” after his accident? It actually has to do with neuroscience.\\n\\nThe iron rod went through his brain, in particular, it went through the frontal lobe of his brain. Does this mean that the frontal lobe of your brain has to do with the kind of person you are? To answer this question, we have to understand what the frontal lobe in our brain is responsible for.\\n\\nOur frontal lobes are responsible for many things. Some of them are higher-order thinking, personality, and decision making. This explains why people who knew Phineas Gage said that he was a totally different person after the accident. Since the iron rod went through his frontal lobe, it means that his personality and thinking, as a whole, completely changed, making him seem like he was a whole different person due to the way he started acting.\\n\\nThis accident and the treatment of Phineas Gage actually played a big role in the field of neurology. His case helped scientists better understand the role of the frontal cortex of the brain (Cherry, par. 16–17).\\n\\nBibliography\\n\\nCherry, Kendra. “The Famous Case of Phineas Gage’s Astonishing Brain Injury.” Phineas Gage’s Astonishing Brain Injury, Verywell Mind, 3 Oct. 2019, www.verywellmind.com/phineas-gage-2795244#targetText=The%20rod%20penetrated%20Gage's%20left,be%20seen%20by%20a%20doctor.              https://medium.com/live-your-life-on-purpose/surviving-a-rod-through-the-head-2e5d74db978        ['Rishav Sinha']  2020-02-26 00:01:01.576000+00:00                ['Brain', 'Health', 'Development', 'Psychology', 'Science']"
      ]
     },
     "execution_count": 117,
     "metadata": {},
     "output_type": "execute_result"
    }
   ],
   "source": [
    "# Load dataset (change filename accordingly)\n",
    "df = pd.read_csv('./data/medium_articles.csv')\n",
    "\n",
    "# Display first few rows\n",
    "df.head()"
   ]
  },
  {
   "cell_type": "markdown",
   "id": "2eb02e48-be09-4374-9b09-258644cc918f",
   "metadata": {},
   "source": [
    "### Parse DataFrame to remove unwanted columns"
   ]
  },
  {
   "cell_type": "code",
   "execution_count": 66,
   "id": "2be1f3f8-4cbb-4932-ad6a-b949d7d831f9",
   "metadata": {
    "tags": []
   },
   "outputs": [
    {
     "data": {
      "text/html": [
       "<div>\n",
       "<style scoped>\n",
       "    .dataframe tbody tr th:only-of-type {\n",
       "        vertical-align: middle;\n",
       "    }\n",
       "\n",
       "    .dataframe tbody tr th {\n",
       "        vertical-align: top;\n",
       "    }\n",
       "\n",
       "    .dataframe thead th {\n",
       "        text-align: right;\n",
       "    }\n",
       "</style>\n",
       "<table border=\"1\" class=\"dataframe\">\n",
       "  <thead>\n",
       "    <tr style=\"text-align: right;\">\n",
       "      <th></th>\n",
       "      <th>text</th>\n",
       "      <th>tags</th>\n",
       "    </tr>\n",
       "  </thead>\n",
       "  <tbody>\n",
       "    <tr>\n",
       "      <th>0</th>\n",
       "      <td>Photo by Josh Riemer on Unsplash\\n\\nMerry Christmas and Happy Holidays, everyone!\\n\\nWe just wanted everyone to know how much we appreciate everyone and how thankful we are for all our readers and writers here. We wouldn’t be anywhere without you, so thank you all for bringing informative, vulnerable, and important pieces that destigmatize mental illness and mental health.\\n\\nWithout further ado, here are ten of our top stories from last week, all of which were curated:\\n\\n“Just as the capacity to love and inspire is universal so is the capacity to hate and discourage. Irrespective of gender, race, age or religion none of us are exempt from aggressive proclivities. Those who are narcissistically disordered, and accordingly repress deep seated feelings of inferiority with inflated delusions of grandeur and superiority, are more prone to aggression and violence. They infiltrate our interactions in myriad environments from home, work, school and the cyber world. Hence, bullying does not happen in isolation. Although there is a ringleader she looks to her minions to either sanction her cruelty or look the other way.”\\n\\n“Even though the circumstances that brought me here were sad and challenging, I’m grateful for how this program has changed my life for the better. I can’t help but imagine what life would be like if everyone learned to accept their powerlessness over other people, prioritize their serenity, and take life one step at a time. We’ll never know, but I’d bet the world would be much happier.”\\n\\n“The prospect of spending a horrible Christmas, locked in on a psychiatric unit, was one of the low points of my life. For weeks, the day room was festooned with cheesy decorations and a sorry pink aluminum tree. All of our “activity” therapies revolved around the holidays. We baked and decorated cookies. We fashioned quick-drying clay into ornaments that turned out to be too heavy for the tree. Crappy Christmas carols were background torture. It was hard to get pissed off at the staff because they were making the best with what they had.”\\n\\n“Although I hate to admit it, even if my ex had never betrayed me, I still wouldn’t have been happy. I had set him up for an impossible job — to define me and make me whole. If I cannot find peace and contentment within myself, how could anyone else do it for me?”\\n\\n“On a personal note, significant feelings of loss and sadness can still flare up from time to time. That’s only natural; it’s no reason for self-critique. No matter how resilient we purport to be, we are all emotionally vulnerable human beings. Besides, we aren’t talking about some conceptual loss that we can just mechanically compartmentalize away — we are talking about the loss of our fathers, mothers, sisters and brothers.”\\n\\n“The next six weeks will be hard as cases continue to explode and government leadership remains nonexistent. I can’t control any of this. The only thing I can do is take deep breaths, remain vigilant when it comes to limiting exposure to the virus, and let lots of stuff go. I may always be a hypochondriac, but now that I recognize the beast, I’m hopeful I’ll be able to tame it.”\\n\\n“From anecdotal news reports and informal surveys, there is evidence that for some of us, this pandemic-imposed isolation is a boon rather than a trial. One study on mixed emotions showed that those with lower emotional stability (“moody” personalities) are actually better at responding to uncertainty.”\\n\\n“Every day I wish in my heart and soul that I didn’t have ME/CFS. Unfortunately, I do. It’s a result of a virus I had; 10–12 percent of people who experience a serious infection go on to develop ME. I’ve visualized life without CFS for over a year now; I can smell life without it, I can taste it. It’s in the smell of the lavender fields that I can no longer run through. It’s in the taste of the meals from my favorite restaurant that I can no longer walk to. It’s on the tip of my tongue. It’s in the potentialities; all the things I could be doing, as a twenty-four year-old, that I can’t. I cannot cross the chasm between the potential and the reality. And that’s nothing to do with manifestation.”\\n\\n“Whether it’s cabin fever, redundancy, loss, or general Covid anxieties, this year has caused us to be exposed to more uncertainty than ever. Uncertainty creates unease and feelings of stress. Some of us may have taken this year as one to motivate — plan dream trips, and prepare and be inspired for what the future could bring. For the rest, it has caused us to become irrational, emotional, and reserved.\\n\\n“To be more self-compassionate is a task that can be tricky because we always want to push ourselves and do better. Without realising it, this can lead to us being self-critical which can have damaging consequences.\\n\\nIt’s important to notice these times when we are harsh because we can easily turn it into self-compassion, which is linked to a better quality of life.”\\n\\nMerry Christmas and Happy Holidays, everyone!\\n\\n— Ryan, Juliette, Marie, and Meredith</td>\n",
       "      <td>['Mental Health', 'Health', 'Psychology', 'Science', 'Neuroscience']</td>\n",
       "    </tr>\n",
       "    <tr>\n",
       "      <th>1</th>\n",
       "      <td>Your Brain On Coronavirus\\n\\nA guide to the curious and troubling impact of the pandemic and isolation\\n\\nPhoto by cottonbro from Pexels\\n\\nThe coronavirus pandemic frustrates and confounds epidemiologists and immunologists, even after months of study. It frustrates politicians and public health officials dealing with mask non-compliance. It frustrates everyone stuck at home, whether they lost their job or adapting to Zoom.\\n\\nAfter exposure to the virus, it first enters the lungs, using host machinery to replicate. The virus itself is just a genetic sequence enclosed in a protein and lipid coat. It binds the ACE2 receptors on lung cells, with a spike protein located on its protein-lipid coat. This receptor, attached to the virus, trafficks into the lung cell. Here the virus hijacks the machinery of the cell to replicate, damaging lung tissue and spreading throughout the body.\\n\\nThe ACE2 receptor, expressed in many regions of the body, is vulnerable to further entry of these viral particles. The ACE2 receptor regulates blood pressure, nutrient absorption and inflammation. These pathways converge and mediate brain health and disease.\\n\\nThe novel coronavirus perplexed us for many different reasons. A large majority of people who get it don’t display any symptoms, while some display symptoms for many months and others require ventilators to breathe. It is unclear whether someone infected with coronavirus retains long-term immunity.\\n\\nAlso, troubling findings implicate this disease in the induction of stroke and the worsening of mental health. The realization that there are likely long-term complications of coronavirus infection is worrying, as millions of people may require expensive coverage for this new pre-existing condition.\\n\\nThose of us lucky to avoid being infected become more socially isolated and lonely. Many studies report the worsening of mental health symptoms, especially in frontline workers, nurses and doctors. These professionals are more prone to burning out and require extra care.\\n\\nCOVID-19 and Stroke\\n\\nThe cells in the brain require a disproportionate amount of energy to function. When deprived of oxygen, even for minutes, the cells begin to die, leading to a variety of debilitating sensory, motor or language deficits depending. When there is blood loss to a specific region of the brain, cells cannot use oxygen to generate energy. If there is a clot in an artery, fresh oxygen cannot travel to any regions primarily supplied by that blood vessel. These events, classified as ischemic strokes, cause lifelong disability in some of those afflicted.\\n\\nEarly findings in patients found abnormal clotting in blood vessels. Vessels around the lungs or even arterial blood-flow to the brain is interrupted. Thus, individuals infected with coronavirus who suffered abnormal blood clotting as a result, were at higher risk of stroke.\\n\\nIn June of 2020, researchers published a report of neurological symptoms in the New England Journal of Medicine. While they did not report common symptoms of having a stroke, they showed other strange brain-related features. Of thirteen COVID-19 patients who underwent brain imaging, three of them showed signs of an ischemic stroke. A subset of eight of these patients showed other types of inflammation, while eleven presented with a lack of blood flow to the frontal areas of the brain.\\n\\nThough a preliminary observational study, it suggested that the coronavirus impacted blood clotting and flow to the brain. Several studies since identified swathes of patients suffering from ischemic strokes or brain/vascular inflammation. Another study reviewed the current state of evidence, concluding that 41% of patients suffering from neurological symptoms after COVID-19 infection, suffered from strokes. Larger studies however, are needed to decipher how common this is among all those infected with the novel coronavirus.\\n\\nDepending on which region of the brain loses oxygen, stroke may manifest as a broad range of symptoms. If cells die in an area of the brain responsible for motor movement, it later manifests in unilateral or bilateral difficulties with movement. Other common symptoms involve fatigue, challenges with balance or walking, partial paralysis, pain or inattention to one entire side of the body. It prevents individuals from doing the things they do in their daily lives, such as dress themselves or go to the bathroom independently.\\n\\nCOVID-19 and Psychiatric Disorders\\n\\nPhoto by Jonathan Rados on Unsplash\\n\\nEither through neuroimmune signalling or by directly entering the cells of the brain, COVID-19 also contributes to psychiatric symptoms and disorders. It is unclear what role it may play in their pathology, but it may worsen existing conditions or as a contributing factor in its development.\\n\\nOne study compared individuals afflicted with the novel coronavirus to those in quarantine or the general public, finding elevated rates of depression (29.2%) in those with COVID-19. Another small study reported increased post-traumatic stress symptoms in these patients.\\n\\nIndividuals already living with psychiatric disorders reported a worsening of symptoms in two different studies. Several other studies reported depressive and anxious symptoms worsened among essential workers.\\n\\nAnother study surveyed &gt;2000 individuals in Denmark, finding a reduction in overall psychological well-being measures during the pandemics. This study also reported that women were more negatively affected than men.\\n\\nAdditionally, it recognized that many older adults living in adult-care communities during shelter-in-place orders experience loneliness and depression. A study of older adults in San Francisco found that they showed increased rates of loneliness and depression.\\n\\nWe must do our best to check-up on our friends and loved ones. We are all affected differently by the pandemic, so it is important to recognize that the rates of anxiety, depression and stress-related disorders may arise.\\n\\nCOVID-19 Long-Haulers\\n\\nThousands of individuals initially infected with COVID-19, the long-haulers, continue to suffer symptoms many months later. On average, these individuals are women around the age of 44 who are otherwise healthy. Their infections were classified as mild severity because they could recover at home.\\n\\nFacing stigma and in need of a community, several groups sprouted up to support each other. Originally disbelieved, they rallied to raise awareness of their predicament within the medical establishment. It should no longer be sufficient to classify individuals infected with COVID-19, who don’t require a hospital stay, as mild.\\n\\nA few different studies report that most individuals affected with COVID-19 suffer from symptoms months later (Italy, UK, Germany). Intriguingly, many long-haulers did not produce high-levels of coronavirus antibodies. Many individuals experience pain, fatigue and many other debilitating symptoms.\\n\\nThese symptoms are consistent with disturbances in the autonomic nervous system, which is responsible for many automatic physiological functions like breathing or heart-rate but also influence fatigue. Preliminary physiotherapy involves reconditioning the nervous system of patients so that they may regain some of these functions. In his article, Ed Yong states:</td>\n",
       "      <td>['Mental Health', 'Coronavirus', 'Science', 'Psychology', 'Neuroscience']</td>\n",
       "    </tr>\n",
       "    <tr>\n",
       "      <th>2</th>\n",
       "      <td>Mind Your Nose\\n\\nHow smell training can change your brain in six weeks — and why it matters.\\n\\nBy Ann-Sophie Barwich\\n\\nWhen it comes to training your brain, your sense of smell is possibly the last thing you’d think could strengthen your neural pathways. Learning a new language or reading more books (and fewer social media posts) — sure. But your nose?\\n\\nThat’s because the olfactory system is one of the most plastic systems in your brain. Neuroplasticity describes how the brain flexibly adapts to changes in the environment or when exposed to neural damage. Stimulating the brain strengthens existing neural structures and further adds fuel to the brain’s capacity to remain adaptive, thereby keeping it young. And your smell system is particularly adept at repair and renewal. (Olfactory cells have recently been used in human transplant therapy to treat spinal cord injury, for example.)\\n\\nOne reason for the olfactory system’s adaptive responsiveness is that it undergoes adult neurogenesis. Humans grow new olfactory neurons every three to four weeks throughout their entire life, not just during child development. (These sensory neurons sit in the mucous of your nose, where they pick up airborne chemicals and send activity signals straight to the core of the brain.) If it weren’t for this ongoing regeneration of sensory cells in your nose, we would stop detecting smells after our first few colds.\\n\\nNeural plasticity weakens as we grow old — and so does our sense of smell. Olfactory performance decreases around the age of 70 as the regeneration of olfactory neurons slows down. Yet this process of regeneration never stops entirely. Training your nose helps slow down that decline and offers a great way to increase your brain’s plasticity. That said, increasing your sensitivity to odors in the environment does not always sound desirable. Smell usually comes with negative connotations: that whiff of urine in the metro, that overpowering literal skunk, or that trail of body odor from the person walking in front of you. But paying more attention to the smells around you also has benefits, and not just for a greater enjoyment of food aromas and neighbors’ gardens.\\n\\nRecent studies show that olfactory abilities correspond with differences in cortical areas involved in smell processing in the brain. Johannes Frasnelli, an olfactory scientist at the University of Quebec in Trois-Rivières, explained: “We did some studies where we saw that there is a link between the structure of certain brain regions-like the thickness of the cortex and the thickness of the gray matter layer in certain brain olfactory processing regions-and the ability to perceive.” Frasnelli and his colleagues found that people with better perceptual capacities had a thicker cortex. When they looked at people who had lost their sense of smell, they also saw a reduction of cortical matter in areas involved in odor processing.\\n\\nThat raises the question: Could you change the structure of your brain simply by smelling things? In 2019, Frasnelli’s group discovered that undergoing as little as six weeks of intense olfactory training results in significant structural changes in some regions of the brain (namely, the right inferior frontal gyrus, the bilateral fusiform gyrus, and the right entorhinal cortex).\\n\\nParticipants were given three tasks with a cognitive component.\\n\\nThe first task was a classification task. Participants had to organize two simple odor mixtures by ordering each from lowest to highest concentration. The second was an identification task. Participants were presented with a target odor blended with a citrus scent in a specific ratio (4%). Then they were given the same blend in different ratios and asked to order them according to quality (more citrusy or less?). Lastly, the detection task: Was the learned target odor present in a range of 14 samples of different odor mixtures or not?\\n\\nThis entire exercise was undertaken each day for 20 minutes during the six weeks. Responses were monitored and evaluated on speed and accuracy.\\n\\nSuch intense olfactory training led to a general improvement in olfactory performance. Plus, the increase of olfactory skill was not restricted to the training exercises but also transferred to other olfactory abilities-abilities that had not been tested as part of the training. These perceptual tests included: the detection threshold of an odor, accuracy in odor discrimination (same or different?), cued odor identification (which of these four descriptors is correct?), and even free odor identification (identifying an odor without cues!).\\n\\nIncreasing insight into what the nose knows, and how it communicates with the brain, has broader implications-even philosophical ones. Old (yet still prevalent) cookie-cutter views of the mind coax us to believe that our senses are passive-indifferently picking up signals in the world that are then processed by the brain. Perception, in such views, is a process separate from cognition. Highly plastic systems such as olfaction present us with a much more intriguing and interwoven picture of the mind: Training your nose’s performance (just like other cognitive capacities) fundamentally shapes what you perceive by rewiring the system.\\n\\nYour senses are far from being impartial transmitters; what you are able to perceive in the world ultimately hinges on the depth of your cognitive engagement with it. In other words, your mind does not emerge apathetically as a product of some remarkable, intricate molecular twists performed by the brain. The mind is enhanced by what you can train your brain to do. Just like strength is a result of muscle training, cognitive training of the senses is the bodybuilding of the brain.</td>\n",
       "      <td>['Biotechnology', 'Neuroscience', 'Brain', 'Wellness', 'Science']</td>\n",
       "    </tr>\n",
       "    <tr>\n",
       "      <th>3</th>\n",
       "      <td>Passionate about the synergy between science and technology to provide better care. Check out my newsletter: scienceforreal.substack.com 📰\\n\\nFollow</td>\n",
       "      <td>['Health', 'Neuroscience', 'Mental Health', 'Psychology', 'Science']</td>\n",
       "    </tr>\n",
       "    <tr>\n",
       "      <th>4</th>\n",
       "      <td>You’ve heard of him, haven’t you? Phineas Gage. The railroad worker who survived an explosion that involved an iron rod piercing through his left cheek and out of his brain and skull.\\n\\nYeah.\\n\\nI know.\\n\\nYou’re probably wondering “yeah, alright sweet. What about him?” Well, let’s just say that he was a really popular patient for the field of neuroscience (Cherry, par. 1). And what I found the most interesting about this tragic event was the science of his behavior afterward.\\n\\nFor those of you who don’t know much about Phineas Gage, let me fill you in with the help of my research.\\n\\nPhineas Gage, 25 years old, was a railroad worker in Vermont. One day, at work, he was using an iron rod to handle explosive gun powder. As he was using the iron rod to handle the gun powder, an explosion suddenly occurred. The iron rod then went through his left cheek and brain. Fortunately, he survived and was able to talk and walk after the accident (Cherry, par. 2–3).\\n\\nWhy did people say that Phineas Gage was a “different person” after his accident? It actually has to do with neuroscience.\\n\\nThe iron rod went through his brain, in particular, it went through the frontal lobe of his brain. Does this mean that the frontal lobe of your brain has to do with the kind of person you are? To answer this question, we have to understand what the frontal lobe in our brain is responsible for.\\n\\nOur frontal lobes are responsible for many things. Some of them are higher-order thinking, personality, and decision making. This explains why people who knew Phineas Gage said that he was a totally different person after the accident. Since the iron rod went through his frontal lobe, it means that his personality and thinking, as a whole, completely changed, making him seem like he was a whole different person due to the way he started acting.\\n\\nThis accident and the treatment of Phineas Gage actually played a big role in the field of neurology. His case helped scientists better understand the role of the frontal cortex of the brain (Cherry, par. 16–17).\\n\\nBibliography\\n\\nCherry, Kendra. “The Famous Case of Phineas Gage’s Astonishing Brain Injury.” Phineas Gage’s Astonishing Brain Injury, Verywell Mind, 3 Oct. 2019, www.verywellmind.com/phineas-gage-2795244#targetText=The%20rod%20penetrated%20Gage's%20left,be%20seen%20by%20a%20doctor.</td>\n",
       "      <td>['Brain', 'Health', 'Development', 'Psychology', 'Science']</td>\n",
       "    </tr>\n",
       "  </tbody>\n",
       "</table>\n",
       "</div>"
      ],
      "text/plain": [
       "                                                                                                                                                                                                                                                                                                                                                                                                                                                                                                                                                                                                                                                                                                                                                                                                                                                                                                                                                                                                                                                                                                                                                                                                                                                                                                                                                                                                                                                                                                                                                                                                                                                                                                                                                                                                                                                                                                                                                                                                                                                                                                                                                                                                                                                                                                                                                                                                                                                                                                                                                                                                                                                                                                                                                                                                                                                                                                                                                                                                                                                                                                                                                                                                                                                                                                                                                                                                                                                                                                                                                                                                                                                                                                                                                                                                                                                                                                                                                                                                                                                                                                                                                                                                                                                                                                                                                                                                                                                                                                                                                                                                                                                                                                                                                                                                                                                                                                                                                                                                                                                                                                                                                                                                                                                                                                                                                                                                                                                                                                                                                                                                                                                                                                                                                                                                                                                                                                                                                                                                                                                                                                                                                                                                                                                                                                                                                                                                                                                                                                                                                                                                                                                                                                                                                                                                                                                                                                                                                                                                                                                                                                                                                                                                                                                                                                                                                                                                                                                                                                                                                                                                                                                  text                                                                       tags\n",
       "0                                                                                                                                                                                                                                                                                                                                                                                                                                                                                                                                                                                                                                                                                                                                                                                                                                                                                                                                                                                                                                                                                                                                                                                                                                                                                                                                                                                                                                                                                                                                                                                                                                                                                                                                                                                                                                                                                                                                                                                                                                                                                                                                                                                                                                                                                                                                                                                           Photo by Josh Riemer on Unsplash\\n\\nMerry Christmas and Happy Holidays, everyone!\\n\\nWe just wanted everyone to know how much we appreciate everyone and how thankful we are for all our readers and writers here. We wouldn’t be anywhere without you, so thank you all for bringing informative, vulnerable, and important pieces that destigmatize mental illness and mental health.\\n\\nWithout further ado, here are ten of our top stories from last week, all of which were curated:\\n\\n“Just as the capacity to love and inspire is universal so is the capacity to hate and discourage. Irrespective of gender, race, age or religion none of us are exempt from aggressive proclivities. Those who are narcissistically disordered, and accordingly repress deep seated feelings of inferiority with inflated delusions of grandeur and superiority, are more prone to aggression and violence. They infiltrate our interactions in myriad environments from home, work, school and the cyber world. Hence, bullying does not happen in isolation. Although there is a ringleader she looks to her minions to either sanction her cruelty or look the other way.”\\n\\n“Even though the circumstances that brought me here were sad and challenging, I’m grateful for how this program has changed my life for the better. I can’t help but imagine what life would be like if everyone learned to accept their powerlessness over other people, prioritize their serenity, and take life one step at a time. We’ll never know, but I’d bet the world would be much happier.”\\n\\n“The prospect of spending a horrible Christmas, locked in on a psychiatric unit, was one of the low points of my life. For weeks, the day room was festooned with cheesy decorations and a sorry pink aluminum tree. All of our “activity” therapies revolved around the holidays. We baked and decorated cookies. We fashioned quick-drying clay into ornaments that turned out to be too heavy for the tree. Crappy Christmas carols were background torture. It was hard to get pissed off at the staff because they were making the best with what they had.”\\n\\n“Although I hate to admit it, even if my ex had never betrayed me, I still wouldn’t have been happy. I had set him up for an impossible job — to define me and make me whole. If I cannot find peace and contentment within myself, how could anyone else do it for me?”\\n\\n“On a personal note, significant feelings of loss and sadness can still flare up from time to time. That’s only natural; it’s no reason for self-critique. No matter how resilient we purport to be, we are all emotionally vulnerable human beings. Besides, we aren’t talking about some conceptual loss that we can just mechanically compartmentalize away — we are talking about the loss of our fathers, mothers, sisters and brothers.”\\n\\n“The next six weeks will be hard as cases continue to explode and government leadership remains nonexistent. I can’t control any of this. The only thing I can do is take deep breaths, remain vigilant when it comes to limiting exposure to the virus, and let lots of stuff go. I may always be a hypochondriac, but now that I recognize the beast, I’m hopeful I’ll be able to tame it.”\\n\\n“From anecdotal news reports and informal surveys, there is evidence that for some of us, this pandemic-imposed isolation is a boon rather than a trial. One study on mixed emotions showed that those with lower emotional stability (“moody” personalities) are actually better at responding to uncertainty.”\\n\\n“Every day I wish in my heart and soul that I didn’t have ME/CFS. Unfortunately, I do. It’s a result of a virus I had; 10–12 percent of people who experience a serious infection go on to develop ME. I’ve visualized life without CFS for over a year now; I can smell life without it, I can taste it. It’s in the smell of the lavender fields that I can no longer run through. It’s in the taste of the meals from my favorite restaurant that I can no longer walk to. It’s on the tip of my tongue. It’s in the potentialities; all the things I could be doing, as a twenty-four year-old, that I can’t. I cannot cross the chasm between the potential and the reality. And that’s nothing to do with manifestation.”\\n\\n“Whether it’s cabin fever, redundancy, loss, or general Covid anxieties, this year has caused us to be exposed to more uncertainty than ever. Uncertainty creates unease and feelings of stress. Some of us may have taken this year as one to motivate — plan dream trips, and prepare and be inspired for what the future could bring. For the rest, it has caused us to become irrational, emotional, and reserved.\\n\\n“To be more self-compassionate is a task that can be tricky because we always want to push ourselves and do better. Without realising it, this can lead to us being self-critical which can have damaging consequences.\\n\\nIt’s important to notice these times when we are harsh because we can easily turn it into self-compassion, which is linked to a better quality of life.”\\n\\nMerry Christmas and Happy Holidays, everyone!\\n\\n— Ryan, Juliette, Marie, and Meredith       ['Mental Health', 'Health', 'Psychology', 'Science', 'Neuroscience']\n",
       "1  Your Brain On Coronavirus\\n\\nA guide to the curious and troubling impact of the pandemic and isolation\\n\\nPhoto by cottonbro from Pexels\\n\\nThe coronavirus pandemic frustrates and confounds epidemiologists and immunologists, even after months of study. It frustrates politicians and public health officials dealing with mask non-compliance. It frustrates everyone stuck at home, whether they lost their job or adapting to Zoom.\\n\\nAfter exposure to the virus, it first enters the lungs, using host machinery to replicate. The virus itself is just a genetic sequence enclosed in a protein and lipid coat. It binds the ACE2 receptors on lung cells, with a spike protein located on its protein-lipid coat. This receptor, attached to the virus, trafficks into the lung cell. Here the virus hijacks the machinery of the cell to replicate, damaging lung tissue and spreading throughout the body.\\n\\nThe ACE2 receptor, expressed in many regions of the body, is vulnerable to further entry of these viral particles. The ACE2 receptor regulates blood pressure, nutrient absorption and inflammation. These pathways converge and mediate brain health and disease.\\n\\nThe novel coronavirus perplexed us for many different reasons. A large majority of people who get it don’t display any symptoms, while some display symptoms for many months and others require ventilators to breathe. It is unclear whether someone infected with coronavirus retains long-term immunity.\\n\\nAlso, troubling findings implicate this disease in the induction of stroke and the worsening of mental health. The realization that there are likely long-term complications of coronavirus infection is worrying, as millions of people may require expensive coverage for this new pre-existing condition.\\n\\nThose of us lucky to avoid being infected become more socially isolated and lonely. Many studies report the worsening of mental health symptoms, especially in frontline workers, nurses and doctors. These professionals are more prone to burning out and require extra care.\\n\\nCOVID-19 and Stroke\\n\\nThe cells in the brain require a disproportionate amount of energy to function. When deprived of oxygen, even for minutes, the cells begin to die, leading to a variety of debilitating sensory, motor or language deficits depending. When there is blood loss to a specific region of the brain, cells cannot use oxygen to generate energy. If there is a clot in an artery, fresh oxygen cannot travel to any regions primarily supplied by that blood vessel. These events, classified as ischemic strokes, cause lifelong disability in some of those afflicted.\\n\\nEarly findings in patients found abnormal clotting in blood vessels. Vessels around the lungs or even arterial blood-flow to the brain is interrupted. Thus, individuals infected with coronavirus who suffered abnormal blood clotting as a result, were at higher risk of stroke.\\n\\nIn June of 2020, researchers published a report of neurological symptoms in the New England Journal of Medicine. While they did not report common symptoms of having a stroke, they showed other strange brain-related features. Of thirteen COVID-19 patients who underwent brain imaging, three of them showed signs of an ischemic stroke. A subset of eight of these patients showed other types of inflammation, while eleven presented with a lack of blood flow to the frontal areas of the brain.\\n\\nThough a preliminary observational study, it suggested that the coronavirus impacted blood clotting and flow to the brain. Several studies since identified swathes of patients suffering from ischemic strokes or brain/vascular inflammation. Another study reviewed the current state of evidence, concluding that 41% of patients suffering from neurological symptoms after COVID-19 infection, suffered from strokes. Larger studies however, are needed to decipher how common this is among all those infected with the novel coronavirus.\\n\\nDepending on which region of the brain loses oxygen, stroke may manifest as a broad range of symptoms. If cells die in an area of the brain responsible for motor movement, it later manifests in unilateral or bilateral difficulties with movement. Other common symptoms involve fatigue, challenges with balance or walking, partial paralysis, pain or inattention to one entire side of the body. It prevents individuals from doing the things they do in their daily lives, such as dress themselves or go to the bathroom independently.\\n\\nCOVID-19 and Psychiatric Disorders\\n\\nPhoto by Jonathan Rados on Unsplash\\n\\nEither through neuroimmune signalling or by directly entering the cells of the brain, COVID-19 also contributes to psychiatric symptoms and disorders. It is unclear what role it may play in their pathology, but it may worsen existing conditions or as a contributing factor in its development.\\n\\nOne study compared individuals afflicted with the novel coronavirus to those in quarantine or the general public, finding elevated rates of depression (29.2%) in those with COVID-19. Another small study reported increased post-traumatic stress symptoms in these patients.\\n\\nIndividuals already living with psychiatric disorders reported a worsening of symptoms in two different studies. Several other studies reported depressive and anxious symptoms worsened among essential workers.\\n\\nAnother study surveyed >2000 individuals in Denmark, finding a reduction in overall psychological well-being measures during the pandemics. This study also reported that women were more negatively affected than men.\\n\\nAdditionally, it recognized that many older adults living in adult-care communities during shelter-in-place orders experience loneliness and depression. A study of older adults in San Francisco found that they showed increased rates of loneliness and depression.\\n\\nWe must do our best to check-up on our friends and loved ones. We are all affected differently by the pandemic, so it is important to recognize that the rates of anxiety, depression and stress-related disorders may arise.\\n\\nCOVID-19 Long-Haulers\\n\\nThousands of individuals initially infected with COVID-19, the long-haulers, continue to suffer symptoms many months later. On average, these individuals are women around the age of 44 who are otherwise healthy. Their infections were classified as mild severity because they could recover at home.\\n\\nFacing stigma and in need of a community, several groups sprouted up to support each other. Originally disbelieved, they rallied to raise awareness of their predicament within the medical establishment. It should no longer be sufficient to classify individuals infected with COVID-19, who don’t require a hospital stay, as mild.\\n\\nA few different studies report that most individuals affected with COVID-19 suffer from symptoms months later (Italy, UK, Germany). Intriguingly, many long-haulers did not produce high-levels of coronavirus antibodies. Many individuals experience pain, fatigue and many other debilitating symptoms.\\n\\nThese symptoms are consistent with disturbances in the autonomic nervous system, which is responsible for many automatic physiological functions like breathing or heart-rate but also influence fatigue. Preliminary physiotherapy involves reconditioning the nervous system of patients so that they may regain some of these functions. In his article, Ed Yong states:  ['Mental Health', 'Coronavirus', 'Science', 'Psychology', 'Neuroscience']\n",
       "2                                                                                                                                                                                                                                                                                                                                                                                                                                                                                                                                                                                                                                                                                                                                                                                                                                                                                                                                                                                                                                                                                                                                                                                                                                                                                                                                                                                                                                                                                                                                                                                                                                                       Mind Your Nose\\n\\nHow smell training can change your brain in six weeks — and why it matters.\\n\\nBy Ann-Sophie Barwich\\n\\nWhen it comes to training your brain, your sense of smell is possibly the last thing you’d think could strengthen your neural pathways. Learning a new language or reading more books (and fewer social media posts) — sure. But your nose?\\n\\nThat’s because the olfactory system is one of the most plastic systems in your brain. Neuroplasticity describes how the brain flexibly adapts to changes in the environment or when exposed to neural damage. Stimulating the brain strengthens existing neural structures and further adds fuel to the brain’s capacity to remain adaptive, thereby keeping it young. And your smell system is particularly adept at repair and renewal. (Olfactory cells have recently been used in human transplant therapy to treat spinal cord injury, for example.)\\n\\nOne reason for the olfactory system’s adaptive responsiveness is that it undergoes adult neurogenesis. Humans grow new olfactory neurons every three to four weeks throughout their entire life, not just during child development. (These sensory neurons sit in the mucous of your nose, where they pick up airborne chemicals and send activity signals straight to the core of the brain.) If it weren’t for this ongoing regeneration of sensory cells in your nose, we would stop detecting smells after our first few colds.\\n\\nNeural plasticity weakens as we grow old — and so does our sense of smell. Olfactory performance decreases around the age of 70 as the regeneration of olfactory neurons slows down. Yet this process of regeneration never stops entirely. Training your nose helps slow down that decline and offers a great way to increase your brain’s plasticity. That said, increasing your sensitivity to odors in the environment does not always sound desirable. Smell usually comes with negative connotations: that whiff of urine in the metro, that overpowering literal skunk, or that trail of body odor from the person walking in front of you. But paying more attention to the smells around you also has benefits, and not just for a greater enjoyment of food aromas and neighbors’ gardens.\\n\\nRecent studies show that olfactory abilities correspond with differences in cortical areas involved in smell processing in the brain. Johannes Frasnelli, an olfactory scientist at the University of Quebec in Trois-Rivières, explained: “We did some studies where we saw that there is a link between the structure of certain brain regions-like the thickness of the cortex and the thickness of the gray matter layer in certain brain olfactory processing regions-and the ability to perceive.” Frasnelli and his colleagues found that people with better perceptual capacities had a thicker cortex. When they looked at people who had lost their sense of smell, they also saw a reduction of cortical matter in areas involved in odor processing.\\n\\nThat raises the question: Could you change the structure of your brain simply by smelling things? In 2019, Frasnelli’s group discovered that undergoing as little as six weeks of intense olfactory training results in significant structural changes in some regions of the brain (namely, the right inferior frontal gyrus, the bilateral fusiform gyrus, and the right entorhinal cortex).\\n\\nParticipants were given three tasks with a cognitive component.\\n\\nThe first task was a classification task. Participants had to organize two simple odor mixtures by ordering each from lowest to highest concentration. The second was an identification task. Participants were presented with a target odor blended with a citrus scent in a specific ratio (4%). Then they were given the same blend in different ratios and asked to order them according to quality (more citrusy or less?). Lastly, the detection task: Was the learned target odor present in a range of 14 samples of different odor mixtures or not?\\n\\nThis entire exercise was undertaken each day for 20 minutes during the six weeks. Responses were monitored and evaluated on speed and accuracy.\\n\\nSuch intense olfactory training led to a general improvement in olfactory performance. Plus, the increase of olfactory skill was not restricted to the training exercises but also transferred to other olfactory abilities-abilities that had not been tested as part of the training. These perceptual tests included: the detection threshold of an odor, accuracy in odor discrimination (same or different?), cued odor identification (which of these four descriptors is correct?), and even free odor identification (identifying an odor without cues!).\\n\\nIncreasing insight into what the nose knows, and how it communicates with the brain, has broader implications-even philosophical ones. Old (yet still prevalent) cookie-cutter views of the mind coax us to believe that our senses are passive-indifferently picking up signals in the world that are then processed by the brain. Perception, in such views, is a process separate from cognition. Highly plastic systems such as olfaction present us with a much more intriguing and interwoven picture of the mind: Training your nose’s performance (just like other cognitive capacities) fundamentally shapes what you perceive by rewiring the system.\\n\\nYour senses are far from being impartial transmitters; what you are able to perceive in the world ultimately hinges on the depth of your cognitive engagement with it. In other words, your mind does not emerge apathetically as a product of some remarkable, intricate molecular twists performed by the brain. The mind is enhanced by what you can train your brain to do. Just like strength is a result of muscle training, cognitive training of the senses is the bodybuilding of the brain.          ['Biotechnology', 'Neuroscience', 'Brain', 'Wellness', 'Science']\n",
       "3                                                                                                                                                                                                                                                                                                                                                                                                                                                                                                                                                                                                                                                                                                                                                                                                                                                                                                                                                                                                                                                                                                                                                                                                                                                                                                                                                                                                                                                                                                                                                                                                                                                                                                                                                                                                                                                                                                                                                                                                                                                                                                                                                                                                                                                                                                                                                                                                                                                                                                                                                                                                                                                                                                                                                                                                                                                                                                                                                                                                                                                                                                                                                                                                                                                                                                                                                                                                                                                                                                                                                                                                                                                                                                                                                                                                                                                                                                                                                                                                                                                                                                                                                                                                                                                                                                                                                                                                                                                                                                                                                                                                                                                                                                                                                                                                                                                                                                                                                                                                                                                                                                                                                                                                                                                                                                                                                                                                                                                                                                                                                                                                                                                                                                                                                                                                                                                                                                                                                                                                                                                                                                                                                                                                                                                                                                                                                                                                                                                                                                                                                                                                                                                                                                                                                                                                                                                                                                                                                                                                                                                                                                                                                                                                                                                                                                                                                                                                                                                                                                 Passionate about the synergy between science and technology to provide better care. Check out my newsletter: scienceforreal.substack.com 📰\\n\\nFollow       ['Health', 'Neuroscience', 'Mental Health', 'Psychology', 'Science']\n",
       "4                                                                                                                                                                                                                                                                                                                                                                                                                                                                                                                                                                                                                                                                                                                                                                                                                                                                                                                                                                                                                                                                                                                                                                                                                                                                                                                                                                                                                                                                                                                                                                                                                                                                                                                                                                                                                                                                                                                                                                                                                                                                                                                                                                                                                                                                                                                                                                                                                                                                                                                                                                                                                                                                                                                                                                                                                                                                                                                                                                                                                                                                                                                                                                                                                                                                                                                                                                                                                                                                                                                                                                                                                                                                                                                                                                                                                                                                                                                                                                                                                                                                                                                                                                                                                                                                                                                                                                                                                                                                                                                                                                                                                                                                                                                                                                                                                                                                                                                                                                                                                                                                                                                                                                                                         You’ve heard of him, haven’t you? Phineas Gage. The railroad worker who survived an explosion that involved an iron rod piercing through his left cheek and out of his brain and skull.\\n\\nYeah.\\n\\nI know.\\n\\nYou’re probably wondering “yeah, alright sweet. What about him?” Well, let’s just say that he was a really popular patient for the field of neuroscience (Cherry, par. 1). And what I found the most interesting about this tragic event was the science of his behavior afterward.\\n\\nFor those of you who don’t know much about Phineas Gage, let me fill you in with the help of my research.\\n\\nPhineas Gage, 25 years old, was a railroad worker in Vermont. One day, at work, he was using an iron rod to handle explosive gun powder. As he was using the iron rod to handle the gun powder, an explosion suddenly occurred. The iron rod then went through his left cheek and brain. Fortunately, he survived and was able to talk and walk after the accident (Cherry, par. 2–3).\\n\\nWhy did people say that Phineas Gage was a “different person” after his accident? It actually has to do with neuroscience.\\n\\nThe iron rod went through his brain, in particular, it went through the frontal lobe of his brain. Does this mean that the frontal lobe of your brain has to do with the kind of person you are? To answer this question, we have to understand what the frontal lobe in our brain is responsible for.\\n\\nOur frontal lobes are responsible for many things. Some of them are higher-order thinking, personality, and decision making. This explains why people who knew Phineas Gage said that he was a totally different person after the accident. Since the iron rod went through his frontal lobe, it means that his personality and thinking, as a whole, completely changed, making him seem like he was a whole different person due to the way he started acting.\\n\\nThis accident and the treatment of Phineas Gage actually played a big role in the field of neurology. His case helped scientists better understand the role of the frontal cortex of the brain (Cherry, par. 16–17).\\n\\nBibliography\\n\\nCherry, Kendra. “The Famous Case of Phineas Gage’s Astonishing Brain Injury.” Phineas Gage’s Astonishing Brain Injury, Verywell Mind, 3 Oct. 2019, www.verywellmind.com/phineas-gage-2795244#targetText=The%20rod%20penetrated%20Gage's%20left,be%20seen%20by%20a%20doctor.                ['Brain', 'Health', 'Development', 'Psychology', 'Science']"
      ]
     },
     "execution_count": 66,
     "metadata": {},
     "output_type": "execute_result"
    }
   ],
   "source": [
    "# parse the CSV data\n",
    "CSV_COLUMNS = [\n",
    "    \"title\",\n",
    "    \"text\",\n",
    "    \"url\",\n",
    "    \"authors\",\n",
    "    \"timestamp\",\n",
    "    \"tags\",\n",
    "]\n",
    "LABEL_COLUMN = \"text\"\n",
    "DEFAULTS = [[\"na\"], [\"na\"], [\"na\"], [\"na\"], [\"na\"], [\"na\"]]\n",
    "UNWANTED_COLS = [\"title\", \"url\", \"authors\", \"timestamp\"]\n",
    "\n",
    "DESIRED_COLUMNS = [col for col in CSV_COLUMNS if col not in UNWANTED_COLS]\n",
    "df = df[DESIRED_COLUMNS]\n",
    "\n",
    "# Show full column width and prevent truncation\n",
    "pd.set_option(\"display.max_colwidth\", None)  # Show full text\n",
    "pd.set_option(\"display.expand_frame_repr\", False)  # Prevent wrapping\n",
    "\n",
    "df.head()"
   ]
  },
  {
   "cell_type": "markdown",
   "id": "36970f93-5159-4f53-8cce-00c006214c5f",
   "metadata": {},
   "source": [
    "### Check formatting within text column"
   ]
  },
  {
   "cell_type": "code",
   "execution_count": 69,
   "id": "ea4785d6-3f23-4a0a-904d-472a01527397",
   "metadata": {
    "tags": []
   },
   "outputs": [
    {
     "name": "stdout",
     "output_type": "stream",
     "text": [
      "You’ve heard of him, haven’t you? Phineas Gage. The railroad worker who survived an explosion that involved an iron rod piercing through his left cheek and out of his brain and skull.\n",
      "\n",
      "Yeah.\n",
      "\n",
      "I know.\n",
      "\n",
      "You’re probably wondering “yeah, alright sweet. What about him?” Well, let’s just say that he was a really popular patient for the field of neuroscience (Cherry, par. 1). And what I found the most interesting about this tragic event was the science of his behavior afterward.\n",
      "\n",
      "For those of you who don’t know much about Phineas Gage, let me fill you in with the help of my research.\n",
      "\n",
      "Phineas Gage, 25 years old, was a railroad worker in Vermont. One day, at work, he was using an iron rod to handle explosive gun powder. As he was using the iron rod to handle the gun powder, an explosion suddenly occurred. The iron rod then went through his left cheek and brain. Fortunately, he survived and was able to talk and walk after the accident (Cherry, par. 2–3).\n",
      "\n",
      "Why did people say that Phineas Gage was a “different person” after his accident? It actually has to do with neuroscience.\n",
      "\n",
      "The iron rod went through his brain, in particular, it went through the frontal lobe of his brain. Does this mean that the frontal lobe of your brain has to do with the kind of person you are? To answer this question, we have to understand what the frontal lobe in our brain is responsible for.\n",
      "\n",
      "Our frontal lobes are responsible for many things. Some of them are higher-order thinking, personality, and decision making. This explains why people who knew Phineas Gage said that he was a totally different person after the accident. Since the iron rod went through his frontal lobe, it means that his personality and thinking, as a whole, completely changed, making him seem like he was a whole different person due to the way he started acting.\n",
      "\n",
      "This accident and the treatment of Phineas Gage actually played a big role in the field of neurology. His case helped scientists better understand the role of the frontal cortex of the brain (Cherry, par. 16–17).\n",
      "\n",
      "Bibliography\n",
      "\n",
      "Cherry, Kendra. “The Famous Case of Phineas Gage’s Astonishing Brain Injury.” Phineas Gage’s Astonishing Brain Injury, Verywell Mind, 3 Oct. 2019, www.verywellmind.com/phineas-gage-2795244#targetText=The%20rod%20penetrated%20Gage's%20left,be%20seen%20by%20a%20doctor.\n"
     ]
    }
   ],
   "source": [
    "print(df[\"text\"].iloc[4])  # Display only the 'text' column"
   ]
  },
  {
   "cell_type": "markdown",
   "id": "9ea3a840-9a84-4eb3-9f2c-d50e65147f33",
   "metadata": {
    "tags": []
   },
   "source": [
    "### Parse Data Sets from DataFrame"
   ]
  },
  {
   "cell_type": "code",
   "execution_count": 75,
   "id": "855ece13-d9e3-4579-93e7-4f71b70931bd",
   "metadata": {
    "tags": []
   },
   "outputs": [
    {
     "name": "stdout",
     "output_type": "stream",
     "text": [
      "Training Set Size: 134657\n",
      "Validation Set Size: 28855\n",
      "Test Set Size: 28856\n"
     ]
    }
   ],
   "source": [
    "from sklearn.model_selection import train_test_split\n",
    "\n",
    "# Split into training and temp (validation + test) set (70% train, 30% temp)\n",
    "train, temp = train_test_split(df, test_size=0.3, random_state=42)\n",
    "\n",
    "# Split the temp set into validation and test set (50% validation, 50% test of the 30%)\n",
    "validate, test = train_test_split(temp, test_size=0.5, random_state=42)\n",
    "\n",
    "# Print counts of rows in each set\n",
    "print(f\"Training Set Size: {train.shape[0]}\")\n",
    "print(f\"Validation Set Size: {validate.shape[0]}\")\n",
    "print(f\"Test Set Size: {test.shape[0]}\")"
   ]
  },
  {
   "cell_type": "markdown",
   "id": "bea4665b-d706-4862-8faf-5bc290cd27f2",
   "metadata": {},
   "source": [
    "## Solution\n",
    "\n",
    "### Approach\n",
    "\n",
    "LLM-based tool(s) with tool-specific training, with tool-specific engineered prompt(s).\n",
    "Modular. Function-based.  Extensible.\n",
    "\n",
    "\n",
    "#### Input: content of the article to analyse\n",
    "\n",
    "(ideally, the contents directly.  alternate consideration might be to provide a URL, but that would require additional python supporting fucntions to pull, then clean up the contents prior to submission)\n",
    "\n",
    "#### Output: variable per tool/function"
   ]
  },
  {
   "cell_type": "markdown",
   "id": "9acc2631-9ca4-4c94-84f3-6373ee1ab4c0",
   "metadata": {},
   "source": [
    "### Instantiate an LLM, and set it up to support one or more functions"
   ]
  },
  {
   "cell_type": "code",
   "execution_count": 78,
   "id": "590c3b10-2b99-49f3-b1ab-49661e4445ad",
   "metadata": {
    "tags": []
   },
   "outputs": [],
   "source": [
    "# Instantiate an LLM\n",
    "from typing import Any, Callable, Optional, Tuple, Union\n",
    "\n",
    "from google import genai\n",
    "from google.cloud import bigquery\n",
    "from google.genai.types import (\n",
    "    FunctionDeclaration,\n",
    "    GenerateContentConfig,\n",
    "    GenerateContentResponse,\n",
    "    Part,\n",
    "    Schema,\n",
    "    Tool,\n",
    ")\n",
    "from IPython.display import Markdown\n",
    "\n",
    "REGION = \"us-central1\"\n",
    "PROJECT = !(gcloud config get-value core/project)\n",
    "PROJECT = PROJECT[0]\n",
    "\n",
    "MODEL = \"gemini-2.0-flash-001\"\n",
    "\n",
    "client = genai.Client(vertexai=True, location=\"us-central1\")\n",
    "\n",
    "# Define the ChatAgent parent class\n",
    "class ChatAgent:\n",
    "    def __init__(\n",
    "        self,\n",
    "        tools: list[Tool],\n",
    "        tool_handler_fn: Callable[[str, dict], Any],\n",
    "        max_iterative_calls: int = 5,\n",
    "    ):\n",
    "        self.tools = tools\n",
    "        self.tool_handler_fn = tool_handler_fn\n",
    "        self.chat_session = chat = client.chats.create(\n",
    "            model=MODEL,\n",
    "            config=GenerateContentConfig(tools=tools),\n",
    "        )\n",
    "        self.max_iterative_calls = 5\n",
    "\n",
    "    def send_message(self, message: str) -> GenerateContentResponse:\n",
    "        response = self.chat_session.send_message(message)\n",
    "        # This is None if a function call was not triggered\n",
    "        fn_calls = response.function_calls\n",
    "\n",
    "        num_calls = 0\n",
    "        # Reasoning loop. If fn_calls is empty then we never enter this\n",
    "        # and simply return the response\n",
    "        while fn_calls:\n",
    "            if num_calls > self.max_iterative_calls:\n",
    "                break\n",
    "\n",
    "            # Handle the function calls\n",
    "            fn_call_responses = []\n",
    "            for fn_call in fn_calls:\n",
    "                response = self.tool_handler_fn(\n",
    "                    fn_call.name, dict(fn_call.args)\n",
    "                )\n",
    "                fn_call_responses.append(\n",
    "                    Part.from_function_response(\n",
    "                        name=fn_call.name,\n",
    "                        response={\n",
    "                            \"content\": response,\n",
    "                        },\n",
    "                    ),\n",
    "                )\n",
    "                num_calls += 1\n",
    "\n",
    "            # Send the function call result back to the model\n",
    "            response = self.chat_session.send_message(fn_call_responses)\n",
    "\n",
    "            # If the response is another function call then we want to\n",
    "            # stay in the reasoning loop and keep calling functions.\n",
    "            fn_calls = response.function_calls\n",
    "\n",
    "        return response"
   ]
  },
  {
   "cell_type": "markdown",
   "id": "d75a721b-5203-4739-a6a9-142f5b6f4588",
   "metadata": {},
   "source": [
    "### Tools\n",
    "\n",
    "#### Article Topic Classifier\n",
    "\n",
    "input: article body  \n",
    "output: one of a curated set of topic categories, based upon highest probability match"
   ]
  },
  {
   "cell_type": "markdown",
   "id": "f92ec61c-a5e4-45ab-9349-37ec330c6753",
   "metadata": {},
   "source": [
    "##### Create Custom Query and Response Templates\n",
    "\n",
    "###### LLM Input"
   ]
  },
  {
   "cell_type": "code",
   "execution_count": 116,
   "id": "60f86d6d-7699-4c0c-9f03-bbd8a391c305",
   "metadata": {
    "tags": []
   },
   "outputs": [
    {
     "name": "stdout",
     "output_type": "stream",
     "text": [
      "Article Topic: politics\t\tActual tags: ['Joe Biden', 'Congress', 'Democrats', 'Cabinet', 'Republicans']\n",
      "Article Topic: entertainment\t\tActual tags: ['Gender And Lgbt Issues', 'Film', 'Blog', 'Media', 'Afrofeminism']\n",
      "Article Topic: science\t\tActual tags: ['Work', 'Psychology', 'Science', 'Neuroscience', 'Education']\n",
      "Article Topic: culture\t\tActual tags: ['Tsunicorn', 'Transgender', 'LGBTQ', 'This Happened To Me', 'Bullying']\n",
      "Article Topic: literature\t\tActual tags: ['Writing', 'Poem', 'Storytelling']\n",
      "Article Topic: business\t\tActual tags: ['Machine Learning', 'Software Development', 'Technology', 'Software Engineering', 'Programming']\n",
      "Article Topic: business\t\tActual tags: ['Life', 'Personal Development', 'Addiction', 'Life Lessons']\n",
      "Article Topic: medicine\t\tActual tags: ['Psychedelics']\n",
      "Article Topic: technology\t\tActual tags: ['Blockchain', 'Cryptocurrency', 'Fintech', 'Technology', 'Bitcoin']\n",
      "Article Topic: technology\t\tActual tags: ['Highlight', 'Coding', 'Document Outlines', 'HTML', 'Html5']\n",
      "Article Topic: technology\t\tActual tags: ['Music', 'Connected Home', 'Cord', 'Consumer']\n",
      "Article Topic: technology\t\tActual tags: ['Datapump', 'Oracle', 'Migration', 'Performance', 'Oracledevs']\n",
      "Article Topic: technology\t\tActual tags: ['Microservices', 'Monolith', 'DevOps', 'Israeli Startups', 'Israel']\n",
      "Article Topic: literature\t\tActual tags: ['Poems And Stories', 'Poetry', 'Nostalgia', 'Poetry On Medium', 'Poems On Medium']\n",
      "Article Topic: technology\t\tActual tags: ['Programming Tips', 'Firebase Cloud Functions', 'Google', 'Firebase', 'Firestore']\n",
      "Article Topic: sports\t\tActual tags: ['London', 'Wildlife', 'Running', 'Advice', 'Challenge']\n",
      "Article Topic: literature\t\tActual tags: ['Poetry', 'Haiku', 'Love', 'Life', 'Parenting']\n",
      "Article Topic: culture\t\tActual tags: ['Gender Equality', 'LGBTQ', 'Nonbinary', 'Gender', 'Gender Identity']\n",
      "Article Topic: technology\t\tActual tags: ['Tailwind Css', 'Vuejs', 'Vue 3', 'Font Awesome']\n",
      "Article Topic: entertainment\t\tActual tags: ['2020', 'Film Reviews', 'Art', 'Film Festivals', 'Cinema']\n"
     ]
    }
   ],
   "source": [
    "# Define the function declaration for the topic classifier\n",
    "from pydantic import BaseModel, Extra, Field\n",
    "from typing import Dict, Any\n",
    "\n",
    "class Schema(BaseModel):\n",
    "    type: str\n",
    "    properties: Dict[str, Any]\n",
    "    required: list\n",
    "\n",
    "class FunctionDeclarationWithExtra(BaseModel):\n",
    "    name: str\n",
    "    description: str\n",
    "    parameters: Schema\n",
    "    # Allow extra fields (like PROMPT)\n",
    "    class Config:\n",
    "        extra = Extra.allow\n",
    "\n",
    "# Define the function declaration for the topic classifier\n",
    "topic_classifier_func = FunctionDeclarationWithExtra(\n",
    "    name=\"topic_classifier\",\n",
    "    description=\"Identify the article topic by analysing the contents of the article\",\n",
    "    parameters=Schema(\n",
    "        type=\"OBJECT\",\n",
    "        properties={\n",
    "            \"article_text\": {  # Define the expected 'article_text' input\n",
    "                \"type\": \"STRING\",\n",
    "                \"description\": \"The content of the article to classify.\"\n",
    "            },\n",
    "            \"topic\": {\n",
    "                \"type\": \"STRING\",\n",
    "                \"description\": \"Topic\",\n",
    "                \"enum\": [\n",
    "                    \"arts\",\n",
    "                    \"entertainment\",\n",
    "                    \"culture\",\n",
    "                    \"literature\",\n",
    "                    \"medicine\",\n",
    "                    \"politics\", \n",
    "                    \"science\", \n",
    "                    \"sports\", \n",
    "                    \"technology\", \n",
    "                    \"us news\", \n",
    "                    \"world\",\n",
    "                    \"business\",\n",
    "                ]\n",
    "            },\n",
    "        },\n",
    "        required=[\"article_text\", \"topic\"],\n",
    "    ),\n",
    "    PROMPT=\"\"\"\n",
    "    Identify the most relevant topic for the following article:\n",
    "\n",
    "    {article_text}\n",
    "    \n",
    "    Use only the enumerated topic categories.\n",
    "    \"\"\"\n",
    ")\n",
    "\n",
    "# Function to classify article text based on topic classification\n",
    "def classify_article_and_get_tags(article_text: str):\n",
    "    # Dynamically set the prompt with the actual article text\n",
    "    formatted_prompt = topic_classifier_func.PROMPT.format(article_text=article_text)\n",
    "    \n",
    "    # Send the article text to the model for classification\n",
    "    response = client.models.generate_content(\n",
    "        model=MODEL,\n",
    "        contents=formatted_prompt,\n",
    "        config=GenerateContentConfig(\n",
    "            response_mime_type=\"text/x.enum\",\n",
    "            response_schema={\n",
    "                \"type\": \"STRING\",\n",
    "                \"enum\": [\n",
    "                    \"arts\",\n",
    "                    \"entertainment\",\n",
    "                    \"culture\",\n",
    "                    \"literature\",\n",
    "                    \"medicine\",\n",
    "                    \"politics\", \n",
    "                    \"science\", \n",
    "                    \"sports\", \n",
    "                    \"technology\", \n",
    "                    \"us news\", \n",
    "                    \"world\",\n",
    "                    \"business\",\n",
    "                ],\n",
    "            },\n",
    "        ),\n",
    "    )\n",
    "    \n",
    "    # The response contains the classification result\n",
    "    classification_result = response.text.strip()  # Clean up the result\n",
    "    \n",
    "    return classification_result\n",
    "\n",
    "# Now, assuming we have a dataframe or list of articles to process\n",
    "article_data = [\n",
    "    \"You’ve heard of him, haven’t you? Phineas Gage. The railroad worker who survived an explosion...\",\n",
    "    \"Another article text that talks about politics and economy...\",\n",
    "    # Add more articles as needed\n",
    "]\n",
    "\n",
    "# Process each article and classify its topic\n",
    "for idx, row in test.head(20).iterrows():\n",
    "    article_text = row[\"text\"]\n",
    "    predicted_topic = classify_article_and_get_tags(article_text)\n",
    "    actual_tags = row[\"tags\"]  # Get the tags for the current row\n",
    "    print(f\"Article Topic: {predicted_topic}\\t\\tActual tags: {actual_tags}\")"
   ]
  },
  {
   "cell_type": "markdown",
   "id": "f61a1760-9d10-45b6-96f5-4a34a07fd74a",
   "metadata": {},
   "source": [
    "#### Sport and Score Extractor\n",
    "\n",
    "input: article body  \n",
    "output: identified sport, score summary"
   ]
  },
  {
   "cell_type": "code",
   "execution_count": null,
   "id": "aeddccff-ad8c-4c42-9c97-3c0135e12cd1",
   "metadata": {},
   "outputs": [],
   "source": [
    "\n",
    "# Import necessary modules from pydantic\n",
    "from pydantic import BaseModel, Extra\n",
    "from typing import Dict, Any\n",
    "import pandas as pd  # Assuming you're using pandas for the test dataframe\n",
    "\n",
    "# Define the Schema class\n",
    "class Schema(BaseModel):\n",
    "    type: str\n",
    "    properties: Dict[str, Any]\n",
    "    required: list\n",
    "\n",
    "# Define the FunctionDeclarationWithExtra class\n",
    "class FunctionDeclarationWithExtra(BaseModel):\n",
    "    name: str\n",
    "    description: str\n",
    "    parameters: Schema\n",
    "    # Allow extra fields (like PROMPT)\n",
    "    class Config:\n",
    "        extra = Extra.allow\n",
    "\n",
    "# Define the function declaration for score extraction\n",
    "score_extraction_func = FunctionDeclarationWithExtra(\n",
    "    name=\"score_extraction\",\n",
    "    description=\"Extract the scores from the article if feasible\",\n",
    "    parameters=Schema(\n",
    "        type=\"OBJECT\",\n",
    "        properties={\n",
    "            \"article_text\": {  # Define the expected 'article_text' input\n",
    "                \"type\": \"STRING\",\n",
    "                \"description\": \"The content of the article to extract scores.\"\n",
    "            },\n",
    "            \"score_available\": {\n",
    "                \"type\": \"BOOLEAN\",\n",
    "                \"description\": \"Indicates if scores are available in the article.\"\n",
    "            },\n",
    "            \"team1_score\": {\n",
    "                \"type\": \"INTEGER\",\n",
    "                \"description\": \"Score for team 1 if available.\"\n",
    "            },\n",
    "            \"team2_score\": {\n",
    "                \"type\": \"INTEGER\",\n",
    "                \"description\": \"Score for team 2 if available.\"\n",
    "            },\n",
    "            \"team1_name\": {\n",
    "                \"type\": \"STRING\",\n",
    "                \"description\": \"Name of team 1 if mentioned.\"\n",
    "            },\n",
    "            \"team2_name\": {\n",
    "                \"type\": \"STRING\",\n",
    "                \"description\": \"Name of team 2 if mentioned.\"\n",
    "            },\n",
    "        },\n",
    "        required=[\"article_text\", \"score_available\"],\n",
    "    ),\n",
    "    PROMPT=\"\"\"\n",
    "    Given the following article, extract the score if feasible:\n",
    "\n",
    "    {article_text}\n",
    "\n",
    "    Provide the output in a structured JSON format:\n",
    "    {{\n",
    "        \"score_available\": true/false,\n",
    "        \"team1_name\": \"name_of_team1\",\n",
    "        \"team1_score\": score_of_team1,\n",
    "        \"team2_name\": \"name_of_team2\",\n",
    "        \"team2_score\": score_of_team2\n",
    "    }}\n",
    "    \"\"\"\n",
    ")\n",
    "\n",
    "def extract_scores_from_article(article_text: str):\n",
    "    # Dynamically set the prompt with the actual article text\n",
    "    formatted_prompt = score_extraction_func.PROMPT.format(article_text=article_text)\n",
    "\n",
    "    # Example client and content generation logic (ensure the client and model are correctly defined)\n",
    "    response = client.models.generate_content(\n",
    "        model=MODEL,\n",
    "        contents=formatted_prompt,\n",
    "        config=GenerateContentConfig(\n",
    "            response_mime_type=\"application/json\",\n",
    "            response_schema={\n",
    "                \"type\": \"OBJECT\",\n",
    "                \"properties\": {\n",
    "                    \"score_available\": {\n",
    "                        \"type\": \"BOOLEAN\",\n",
    "                    },\n",
    "                    \"team1_name\": {\n",
    "                        \"type\": \"STRING\",\n",
    "                    },\n",
    "                    \"team1_score\": {\n",
    "                        \"type\": \"INTEGER\",\n",
    "                    },\n",
    "                    \"team2_name\": {\n",
    "                        \"type\": \"STRING\",\n",
    "                    },\n",
    "                    \"team2_score\": {\n",
    "                        \"type\": \"INTEGER\",\n",
    "                    }\n",
    "                },\n",
    "                \"required\": [\"score_available\"],\n",
    "            },\n",
    "        ),\n",
    "    )\n",
    "\n",
    "    # The response contains the scores extracted from the article\n",
    "    scores_extraction_result = json.loads(response.json())  # Parse the JSON response\n",
    "\n",
    "    return scores_extraction_result\n",
    "\n",
    "# Loop through the test dataframe and extract scores\n",
    "for idx, row in test.head(2000).iterrows():  # Adjust the dataframe as necessary\n",
    "    article_text = row[\"text\"]\n",
    "    extracted_scores = extract_scores_from_article(article_text)\n",
    "    actual_tags = row[\"tags\"]  # Get the tags for the current row\n",
    "\n",
    "    if extracted_scores.get(\"score_available\"):\n",
    "        print(f\"Extracted Scores: {extracted_scores}\\t\\tActual tags: {actual_tags}\")"
   ]
  },
  {
   "cell_type": "markdown",
   "id": "378fdf36-2c58-4506-8d76-afa3bd914103",
   "metadata": {},
   "source": [
    "#### Sport Statistics Summarizer\n",
    "\n",
    "input: article body  \n",
    "output: statistics summary"
   ]
  },
  {
   "cell_type": "code",
   "execution_count": null,
   "id": "31923c8c-b297-4f19-8dc2-8a481da93e84",
   "metadata": {},
   "outputs": [],
   "source": [
    "\n",
    "# Import necessary modules from pydantic\n",
    "from pydantic import BaseModel, Extra\n",
    "from typing import Dict, Any\n",
    "import pandas as pd  # Assuming you're using pandas for the test dataframe\n",
    "import json\n",
    "\n",
    "# Define the Schema class\n",
    "class Schema(BaseModel):\n",
    "    type: str\n",
    "    properties: Dict[str, Any]\n",
    "    required: list\n",
    "\n",
    "# Define the FunctionDeclarationWithExtra class\n",
    "class FunctionDeclarationWithExtra(BaseModel):\n",
    "    name: str\n",
    "    description: str\n",
    "    parameters: Schema\n",
    "    # Allow extra fields (like PROMPT)\n",
    "    class Config:\n",
    "        extra = Extra.allow\n",
    "\n",
    "# Define the function declaration for sport mention and person summary extraction\n",
    "sport_person_extraction_func = FunctionDeclarationWithExtra(\n",
    "    name=\"sport_person_extraction\",\n",
    "    description=\"Extract mentions of sports and summarize information related to individuals mentioned in the article if feasible\",\n",
    "    parameters=Schema(\n",
    "        type=\"OBJECT\",\n",
    "        properties={\n",
    "            \"article_text\": {  # Define the expected 'article_text' input\n",
    "                \"type\": \"STRING\",\n",
    "                \"description\": \"The content of the article to extract sport mentions and person summaries.\"\n",
    "            },\n",
    "            \"sport_mentioned\": {\n",
    "                \"type\": \"BOOLEAN\",\n",
    "                \"description\": \"Indicates if any sports are mentioned in the article.\"\n",
    "            },\n",
    "            \"person_name\": {\n",
    "                \"type\": \"STRING\",\n",
    "                \"description\": \"Name of the person mentioned in relation to the sport.\"\n",
    "            },\n",
    "            \"summary\": {\n",
    "                \"type\": \"STRING\",\n",
    "                \"description\": \"Summary of what is said about the person.\"\n",
    "            },\n",
    "        },\n",
    "        required=[\"article_text\", \"sport_mentioned\"],\n",
    "    ),\n",
    "    PROMPT=\"\"\"\n",
    "    Given the following article, identify if any sports are mentioned. If there are mentions of sports, find any names attached to the article and provide a summary about what the article is saying about that person.\n",
    "\n",
    "    {article_text}\n",
    "\n",
    "    Provide the output in a structured JSON format:\n",
    "    {{\n",
    "        \"sport_mentioned\": true/false,\n",
    "        \"person_name\": \"name_of_person_mentioned\",\n",
    "        \"summary\": \"summary_about_person\"\n",
    "    }}\n",
    "    \"\"\"\n",
    ")\n",
    "\n",
    "def extract_sport_person_summary_from_article(article_text: str):\n",
    "    # Dynamically set the prompt with the actual article text\n",
    "    formatted_prompt = sport_person_extraction_func.PROMPT.format(article_text=article_text)\n",
    "\n",
    "    # Example client and content generation logic (ensure the client and model are correctly defined)\n",
    "    response = client.models.generate_content(\n",
    "        model=MODEL,  # Make sure to replace with the actual model name you are using\n",
    "        contents=formatted_prompt,\n",
    "        config=GenerateContentConfig(\n",
    "            response_mime_type=\"application/json\",\n",
    "            response_schema={\n",
    "                \"type\": \"OBJECT\",\n",
    "                \"properties\": {\n",
    "                    \"sport_mentioned\": {\n",
    "                        \"type\": \"BOOLEAN\",\n",
    "                    },\n",
    "                    \"person_name\": {\n",
    "                        \"type\": \"STRING\",\n",
    "                    },\n",
    "                    \"summary\": {\n",
    "                        \"type\": \"STRING\",\n",
    "                    }\n",
    "                },\n",
    "                \"required\": [\"sport_mentioned\"],\n",
    "            },\n",
    "        ),\n",
    "    )\n",
    "\n",
    "    # Parse the JSON response\n",
    "    response_data = json.loads(response.json())\n",
    "    sport_person_extraction_result = response_data.get('parsed', {})\n",
    "\n",
    "    return sport_person_extraction_result\n",
    "\n",
    "# Loop through the test dataframe and extract sport mentions and person summaries\n",
    "for idx, row in test.head(2000).iterrows():\n",
    "    article_text = row[\"text\"]\n",
    "    extracted_info = extract_sport_person_summary_from_article(article_text)\n",
    "    actual_tags = row[\"tags\"]  # Get the tags for the current row\n",
    "\n",
    "    if extracted_info.get(\"sport_mentioned\") == True:\n",
    "        print(f\"Extracted Info: {extracted_info}\\t\\tActual tags: {actual_tags}\")"
   ]
  },
  {
   "cell_type": "markdown",
   "id": "0fbc615f-a3e1-4b3c-96f8-58b9b7a30742",
   "metadata": {},
   "source": [
    "### API Deployment (Input/Output)\n",
    "\n",
    "Webapp endpoint"
   ]
  },
  {
   "cell_type": "code",
   "execution_count": null,
   "id": "a0610108-1013-435b-b896-d3d9469b90b4",
   "metadata": {},
   "outputs": [],
   "source": []
  },
  {
   "cell_type": "markdown",
   "id": "8f529e89-6ba2-4af2-ae99-d043f0b06dc1",
   "metadata": {},
   "source": [
    "## Reference Labs\n",
    "\n",
    "- Gemini Function Calling\n",
    "- Gemini Prompt Engineering\n",
    "- AutoML for Text Classification - Vertex\n",
    "- KFP Walkthrogh - Vertex Containerization - Training and Deployment Pipelines"
   ]
  },
  {
   "cell_type": "code",
   "execution_count": null,
   "id": "f881b688-6b6f-4c62-9278-220b2552d98a",
   "metadata": {},
   "outputs": [],
   "source": []
  }
 ],
 "metadata": {
  "environment": {
   "kernel": "conda-base-py",
   "name": "workbench-notebooks.m129",
   "type": "gcloud",
   "uri": "us-docker.pkg.dev/deeplearning-platform-release/gcr.io/workbench-notebooks:m129"
  },
  "kernelspec": {
   "display_name": "Python 3 (ipykernel) (Local)",
   "language": "python",
   "name": "conda-base-py"
  },
  "language_info": {
   "codemirror_mode": {
    "name": "ipython",
    "version": 3
   },
   "file_extension": ".py",
   "mimetype": "text/x-python",
   "name": "python",
   "nbconvert_exporter": "python",
   "pygments_lexer": "ipython3",
   "version": "3.10.16"
  }
 },
 "nbformat": 4,
 "nbformat_minor": 5
}
