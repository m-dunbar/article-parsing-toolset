{
 "cells": [
  {
   "cell_type": "markdown",
   "id": "4d4bd09a-e309-447c-bae6-0bba7cb829ed",
   "metadata": {
    "tags": []
   },
   "source": [
    "# Project 3 - Article Parsing Toolset"
   ]
  },
  {
   "cell_type": "markdown",
   "id": "a1834e12-e215-457e-bb90-f7d411635952",
   "metadata": {
    "tags": []
   },
   "source": [
    "## Team 3 Members\n",
    "\n",
    "- Matthew Dunbar\n",
    "- Jeffrei Cher\n",
    "- Basil James"
   ]
  },
  {
   "cell_type": "markdown",
   "id": "6bc18b4a-1c51-4bae-be3d-39d60063c70e",
   "metadata": {
    "tags": []
   },
   "source": [
    "## Project Problem\n",
    "\n",
    "To parse article content and extract various data from the article contents\n",
    "\n",
    "- _**Article Classification into a set of pre-defined categories**_\n",
    "  (a prediction model)\n",
    "\n",
    "For Sports Articles:\n",
    "- _**to identify the sport, and extract game/match scores if present**_\n",
    "- _(to provide stats summaries if present?)_"
   ]
  },
  {
   "cell_type": "markdown",
   "id": "bea4665b-d706-4862-8faf-5bc290cd27f2",
   "metadata": {},
   "source": [
    "## Solution\n",
    "\n",
    "Input: content of the article to analyse\n",
    "(ideally, the contents directly.  alternate consideration might be to provide a URL, but that would require additional python supporting fucntions to pull, then clean up the contents prior to submission)\n",
    "\n",
    "Output variable per tool/function\n",
    "\n",
    "### Tools\n",
    "\n",
    "#### Article Topic Classifier\n",
    "\n"
   ]
  },
  {
   "cell_type": "code",
   "execution_count": null,
   "id": "8aa89d3a-8557-4e60-899c-469779a3eb9a",
   "metadata": {},
   "outputs": [],
   "source": []
  }
 ],
 "metadata": {
  "environment": {
   "kernel": "conda-base-py",
   "name": "workbench-notebooks.m128",
   "type": "gcloud",
   "uri": "us-docker.pkg.dev/deeplearning-platform-release/gcr.io/workbench-notebooks:m128"
  },
  "kernelspec": {
   "display_name": "Python 3 (ipykernel)",
   "language": "python",
   "name": "conda-base-py"
  },
  "language_info": {
   "codemirror_mode": {
    "name": "ipython",
    "version": 3
   },
   "file_extension": ".py",
   "mimetype": "text/x-python",
   "name": "python",
   "nbconvert_exporter": "python",
   "pygments_lexer": "ipython3",
   "version": "3.10.16"
  }
 },
 "nbformat": 4,
 "nbformat_minor": 5
}
