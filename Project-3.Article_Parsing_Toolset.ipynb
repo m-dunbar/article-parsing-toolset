{
 "cells": [
  {
   "cell_type": "markdown",
   "id": "4d4bd09a-e309-447c-bae6-0bba7cb829ed",
   "metadata": {
    "tags": []
   },
   "source": [
    "# Project 3 - Article Parsing Toolset"
   ]
  },
  {
   "cell_type": "markdown",
   "id": "a1834e12-e215-457e-bb90-f7d411635952",
   "metadata": {
    "tags": []
   },
   "source": [
    "## Team 3 Members\n",
    "\n",
    "- Matthew Dunbar\n",
    "- Jeffrei Cher\n",
    "- Basil James"
   ]
  },
  {
   "cell_type": "markdown",
   "id": "6bc18b4a-1c51-4bae-be3d-39d60063c70e",
   "metadata": {
    "tags": []
   },
   "source": [
    "## Project Problem\n",
    "\n",
    "To parse article content and extract various data from the article contents\n",
    "\n",
    "- _**Article Classification into a set of pre-defined categories**_\n",
    "  (a prediction model)\n",
    "\n",
    "For Sports Articles:\n",
    "- _**to identify the sport, and extract game/match scores if present**_\n",
    "- _(to provide stats summaries if present?)_"
   ]
  },
  {
   "cell_type": "markdown",
   "id": "3538e8b9-7226-482a-a6ab-8dcebf00e22c",
   "metadata": {},
   "source": [
    "## Learning Goal\n",
    "\n",
    "Develop experience:\n",
    "\n",
    "- Building and deploying models to leverage in real world applications\n",
    "- Leveraging custom training of LLMs to provide article analysis.\n",
    "- Using a tool-based (extensible toolbox) approach to provide multiple analytics features\n"
   ]
  },
  {
   "cell_type": "markdown",
   "id": "bea4665b-d706-4862-8faf-5bc290cd27f2",
   "metadata": {},
   "source": [
    "## Solution\n",
    "\n",
    "### Approach\n",
    "\n",
    "LLM-based tool(s) with tool-specific training, with tool-specific engineered prompt(s).\n",
    "Modular. Function-based.  Extensible.\n",
    "\n",
    "\n",
    "#### Input: content of the article to analyse\n",
    "\n",
    "(ideally, the contents directly.  alternate consideration might be to provide a URL, but that would require additional python supporting fucntions to pull, then clean up the contents prior to submission)\n",
    "\n",
    "#### Output: variable per tool/function"
   ]
  },
  {
   "cell_type": "markdown",
   "id": "d75a721b-5203-4739-a6a9-142f5b6f4588",
   "metadata": {},
   "source": [
    "### Tools\n",
    "\n",
    "#### Article Topic Classifier\n",
    "\n"
   ]
  },
  {
   "cell_type": "code",
   "execution_count": null,
   "id": "8aa89d3a-8557-4e60-899c-469779a3eb9a",
   "metadata": {},
   "outputs": [],
   "source": []
  },
  {
   "cell_type": "markdown",
   "id": "f61a1760-9d10-45b6-96f5-4a34a07fd74a",
   "metadata": {},
   "source": [
    "#### Sport and Score Extractor\n"
   ]
  },
  {
   "cell_type": "code",
   "execution_count": null,
   "id": "a83d677f-8e1d-4f6f-99d9-485c42782029",
   "metadata": {},
   "outputs": [],
   "source": []
  },
  {
   "cell_type": "markdown",
   "id": "378fdf36-2c58-4506-8d76-afa3bd914103",
   "metadata": {},
   "source": [
    "#### Sport Statistics Summarizer\n"
   ]
  },
  {
   "cell_type": "code",
   "execution_count": null,
   "id": "500730f2-1217-4887-b1ee-d7c6558804b4",
   "metadata": {},
   "outputs": [],
   "source": []
  },
  {
   "cell_type": "markdown",
   "id": "0fbc615f-a3e1-4b3c-96f8-58b9b7a30742",
   "metadata": {},
   "source": [
    "### API Deployment (Input/Output)\n",
    "\n",
    "Webapp endpoint"
   ]
  },
  {
   "cell_type": "code",
   "execution_count": null,
   "id": "a0610108-1013-435b-b896-d3d9469b90b4",
   "metadata": {},
   "outputs": [],
   "source": []
  },
  {
   "cell_type": "markdown",
   "id": "da632267-b262-4941-8ba3-8f36e5992934",
   "metadata": {},
   "source": [
    "## Dataset\n",
    "\n",
    "- https://www.kaggle.com/datasets/fabiochiusano/medium-articles  \n",
    "[size: 190k+, categories: multiple tags per article, large set, Includes titles, full articles, and URLs]\n"
   ]
  },
  {
   "cell_type": "markdown",
   "id": "e436ec87-20b4-492c-8486-7b8d9d4194e3",
   "metadata": {},
   "source": [
    "#### Retrieve dataset and load into Big Query"
   ]
  },
  {
   "cell_type": "code",
   "execution_count": null,
   "id": "02161fa5-49ec-4784-9447-2077621f24fd",
   "metadata": {},
   "outputs": [],
   "source": []
  },
  {
   "cell_type": "markdown",
   "id": "8f529e89-6ba2-4af2-ae99-d043f0b06dc1",
   "metadata": {},
   "source": [
    "## Reference Labs\n",
    "\n",
    "- Gemini Function Calling\n",
    "- AutoML for Text Classification - Vertex\n",
    "- KFP Walkthrogh - Vertex Containerization - Training and Deployment Pipelines"
   ]
  },
  {
   "cell_type": "code",
   "execution_count": null,
   "id": "f881b688-6b6f-4c62-9278-220b2552d98a",
   "metadata": {},
   "outputs": [],
   "source": []
  }
 ],
 "metadata": {
  "environment": {
   "kernel": "conda-base-py",
   "name": "workbench-notebooks.m128",
   "type": "gcloud",
   "uri": "us-docker.pkg.dev/deeplearning-platform-release/gcr.io/workbench-notebooks:m128"
  },
  "kernelspec": {
   "display_name": "Python 3 (ipykernel)",
   "language": "python",
   "name": "conda-base-py"
  },
  "language_info": {
   "codemirror_mode": {
    "name": "ipython",
    "version": 3
   },
   "file_extension": ".py",
   "mimetype": "text/x-python",
   "name": "python",
   "nbconvert_exporter": "python",
   "pygments_lexer": "ipython3",
   "version": "3.10.16"
  }
 },
 "nbformat": 4,
 "nbformat_minor": 5
}
